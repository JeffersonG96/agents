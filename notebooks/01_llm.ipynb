{
 "cells": [
  {
   "cell_type": "markdown",
   "id": "db28daec",
   "metadata": {},
   "source": [
    "#### Langraph y LLM"
   ]
  },
  {
   "cell_type": "code",
   "execution_count": 8,
   "id": "b369aa3f",
   "metadata": {},
   "outputs": [
    {
     "name": "stdout",
     "output_type": "stream",
     "text": [
      "Cargado API de openai\n"
     ]
    }
   ],
   "source": [
    "#load enviroment \n",
    "from dotenv import load_dotenv\n",
    "import os\n",
    "\n",
    "load_dotenv()\n",
    "\n",
    "if os.getenv(\"OPENAI_API_KEY\"):\n",
    "    print(\"Cargado API de openai\")\n"
   ]
  },
  {
   "cell_type": "code",
   "execution_count": null,
   "id": "c94df59d",
   "metadata": {},
   "outputs": [
    {
     "data": {
      "text/plain": [
       "AIMessage(content='¡Hola! Estoy aquí para ayudarte. ¿Cómo estás tú?', additional_kwargs={'refusal': None}, response_metadata={'token_usage': {'completion_tokens': 13, 'prompt_tokens': 10, 'total_tokens': 23, 'completion_tokens_details': {'accepted_prediction_tokens': 0, 'audio_tokens': 0, 'reasoning_tokens': 0, 'rejected_prediction_tokens': 0}, 'prompt_tokens_details': {'audio_tokens': 0, 'cached_tokens': 0}}, 'model_name': 'gpt-4o-mini-2024-07-18', 'system_fingerprint': 'fp_8bda4d3a2c', 'id': 'chatcmpl-CClRY5Ifm268zjDeAyrWT23B5WGg8', 'service_tier': 'default', 'finish_reason': 'stop', 'logprobs': None}, id='run--fd5a38f5-feb5-49c8-8bb5-80e255a40945-0', usage_metadata={'input_tokens': 10, 'output_tokens': 13, 'total_tokens': 23, 'input_token_details': {'audio': 0, 'cache_read': 0}, 'output_token_details': {'audio': 0, 'reasoning': 0}})"
      ]
     },
     "execution_count": 13,
     "metadata": {},
     "output_type": "execute_result"
    }
   ],
   "source": [
    "from langchain_openai import ChatOpenAI\n",
    "\n",
    "MODEL = \"gpt-4o-mini\"\n",
    "llm = ChatOpenAI(model=MODEL,temperature=0.6)\n",
    "llm.invoke(\"hola como estas\")"
   ]
  },
  {
   "cell_type": "code",
   "execution_count": 16,
   "id": "905a1119",
   "metadata": {},
   "outputs": [],
   "source": [
    "\n",
    "from typing import Annotated\n",
    "from typing_extensions import TypedDict\n",
    "from langgraph.graph.message import add_messages\n",
    "from langchain_core.messages import AnyMessage\n",
    "\n",
    "class MyState(TypedDict):\n",
    "    messages: Annotated[list[AnyMessage], add_messages]"
   ]
  },
  {
   "cell_type": "code",
   "execution_count": 18,
   "id": "b3858623",
   "metadata": {},
   "outputs": [],
   "source": [
    "\n",
    "from langchain_core.messages import SystemMessage\n",
    "\n",
    "system_message = SystemMessage(content=\"Eres un asistente de ventas de celulares, respondes en pocas palabras, se breve y consiso\")\n",
    "\n",
    "#node 1\n",
    "def node_llm(state: MyState) -> MyState:\n",
    "    return {\"messages\": [llm.invoke([system_message] + state[\"messages\"])]}"
   ]
  },
  {
   "cell_type": "code",
   "execution_count": 19,
   "id": "276d74bc",
   "metadata": {},
   "outputs": [],
   "source": [
    "from langgraph.graph import StateGraph, START, END\n",
    "\n",
    "#Define Grafo\n",
    "builder = StateGraph(MyState)\n",
    "\n",
    "#Define nodos (key, name)\n",
    "builder.add_node('node_llm',node_llm)\n",
    "\n",
    "#Define la secuencia de los agentes para este caso \n",
    "builder.add_edge(START,'node_llm')\n",
    "builder.add_edge('node_llm',END)\n",
    "\n",
    "#Tambien para definir la secuencia se debe utilizar:\n",
    "# graph.add_conditional_edges()\n",
    "\n",
    "#compilar\n",
    "graph = builder.compile()"
   ]
  },
  {
   "cell_type": "code",
   "execution_count": 20,
   "id": "174e3e36",
   "metadata": {},
   "outputs": [
    {
     "data": {
      "image/png": "[encoded data removed]",
      "text/plain": [
       "<IPython.core.display.Image object>"
      ]
     },
     "metadata": {},
     "output_type": "display_data"
    }
   ],
   "source": [
    "from IPython.display import Image, display\n",
    "\n",
    "display(Image(graph.get_graph().draw_mermaid_png()))"
   ]
  }
 ],
 "metadata": {
  "kernelspec": {
   "display_name": "agents",
   "language": "python",
   "name": "python3"
  },
  "language_info": {
   "codemirror_mode": {
    "name": "ipython",
    "version": 3
   },
   "file_extension": ".py",
   "mimetype": "text/x-python",
   "name": "python",
   "nbconvert_exporter": "python",
   "pygments_lexer": "ipython3",
   "version": "3.11.13"
  }
 },
 "nbformat": 4,
 "nbformat_minor": 5
}
