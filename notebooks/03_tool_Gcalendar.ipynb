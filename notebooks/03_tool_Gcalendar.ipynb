{
 "cells": [
  {
   "cell_type": "markdown",
   "id": "9faf7037",
   "metadata": {},
   "source": [
    "### Google calendar como tool"
   ]
  },
  {
   "cell_type": "markdown",
   "id": "158e3111",
   "metadata": {},
   "source": [
    "Instalar la librería de Google Client"
   ]
  },
  {
   "cell_type": "code",
   "execution_count": null,
   "id": "24d6875d",
   "metadata": {},
   "outputs": [],
   "source": [
    "#se instala usando poetry\n",
    "#poetry install google-api-python-client google-auth-httplib2 google-auth-oauthlib"
   ]
  },
  {
   "cell_type": "code",
   "execution_count": null,
   "id": "1b011831",
   "metadata": {},
   "outputs": [],
   "source": [
    "#import básicas\n",
    "import datetime\n",
    "import os\n",
    "import io  # Para manejo de JSON"
   ]
  },
  {
   "cell_type": "code",
   "execution_count": 39,
   "id": "ba9094f3",
   "metadata": {},
   "outputs": [
    {
     "name": "stdout",
     "output_type": "stream",
     "text": [
      "Token cargado correctamente.\n",
      "Token guardado en token_google.\n",
      "Evento creado exitosamente: https://www.google.com/calendar/event?eid=bjAwc2dya2xiNzVlNTM5amdxYmJkM3M0NHMgamVmZXJzb25ndWFtYW45NEBt\n"
     ]
    }
   ],
   "source": [
    "from google.auth.transport.requests import Request\n",
    "from google.oauth2.credentials import Credentials\n",
    "from google_auth_oauthlib.flow import InstalledAppFlow\n",
    "from googleapiclient.discovery import build\n",
    "from googleapiclient.errors import HttpError\n",
    "\n",
    "# Scope para acceso de lectura/escritura en Calendar\n",
    "SCOPES = ['https://www.googleapis.com/auth/calendar']\n",
    "\n",
    "def main():\n",
    "    creds = None\n",
    "    token_google = 'token_google'  # Ajusta si es diferente (ej., 'token.json')\n",
    "    credentials_file = '../credentials.json'  # Tu archivo de credenciales\n",
    "    \n",
    "    # Verifica si el archivo de token existe y es válido\n",
    "    if os.path.exists(token_google):\n",
    "        try:\n",
    "            creds = Credentials.from_authorized_user_file(token_google, SCOPES)\n",
    "            print(\"Token cargado correctamente.\")\n",
    "        except ValueError as e:\n",
    "            print(f\"Error en el token: {e}. Borrando y regenerando...\")\n",
    "            os.remove(token_google)  # Borra automáticamente el archivo malo\n",
    "            creds = None  # Fuerza reautorización\n",
    "    \n",
    "    # Si no hay credenciales válidas, autoriza\n",
    "    if not creds or not creds.valid:\n",
    "        if creds and creds.expired and creds.refresh_token:\n",
    "            creds.refresh(Request())\n",
    "        else:\n",
    "            if not os.path.exists(credentials_file):\n",
    "                print(f\"Error: No se encuentra {credentials_file}. Descárgalo de Google Cloud Console.\")\n",
    "                return\n",
    "            flow = InstalledAppFlow.from_client_secrets_file(credentials_file, SCOPES)\n",
    "            creds = flow.run_local_server(port=0)\n",
    "        # Guarda las credenciales para la próxima vez\n",
    "        with open(token_google, 'w') as token:\n",
    "            token.write(creds.to_json())\n",
    "        print(f\"Token guardado en {token_google}.\")\n",
    "    \n",
    "    try:\n",
    "        service = build('calendar', 'v3', credentials=creds)\n",
    "        \n",
    "        # Configura el evento básico (ajusta la fecha si quieres)\n",
    "        event = {\n",
    "            'summary': 'Reunión de Prueba con IA',\n",
    "            'location': 'Oficina Virtual (Zoom)',\n",
    "            'description': 'Evento creado con Python y Google Calendar API.',\n",
    "            'start': {\n",
    "                'dateTime': '2025-09-15T10:00:00-05:00',  # Mañana a las 10 AM (ajusta)\n",
    "                'timeZone': 'America/Guayaquil',  # Timezone Ecuador\n",
    "            },\n",
    "            'end': {\n",
    "                'dateTime': '2025-09-15T11:00:00-05:00',\n",
    "                'timeZone': 'America/Guayaquil',\n",
    "            },\n",
    "            'attendees': [\n",
    "                {'email': 'tu-email@ejemplo.com'},  # Agrega emails reales\n",
    "            ],\n",
    "            'reminders': {\n",
    "                'useDefault': False,\n",
    "                'overrides': [\n",
    "                    {'method': 'email', 'minutes': 24 * 60},  # Email 1 día antes\n",
    "                    {'method': 'popup', 'minutes': 10},       # Popup 10 min antes\n",
    "                ],\n",
    "            },\n",
    "        }\n",
    "        \n",
    "        # Crea el evento en el calendario principal\n",
    "        event = service.events().insert(calendarId='primary', body=event).execute()\n",
    "        print(f'Evento creado exitosamente: {event.get(\"htmlLink\")}')\n",
    "        \n",
    "    except HttpError as error:\n",
    "        print(f'Error al crear el evento: {error}')\n",
    "\n",
    "if __name__ == '__main__':\n",
    "    main()"
   ]
  },
  {
   "cell_type": "code",
   "execution_count": 38,
   "id": "c9142b8d",
   "metadata": {},
   "outputs": [
    {
     "ename": "DefaultCredentialsError",
     "evalue": "Your default credentials were not found. To set up Application Default Credentials, see https://cloud.google.com/docs/authentication/external/set-up-adc for more information.",
     "output_type": "error",
     "traceback": [
      "\u001b[31m---------------------------------------------------------------------------\u001b[39m",
      "\u001b[31mDefaultCredentialsError\u001b[39m                   Traceback (most recent call last)",
      "\u001b[36mCell\u001b[39m\u001b[36m \u001b[39m\u001b[32mIn[38]\u001b[39m\u001b[32m, line 1\u001b[39m\n\u001b[32m----> \u001b[39m\u001b[32m1\u001b[39m service = \u001b[43mbuild\u001b[49m\u001b[43m(\u001b[49m\u001b[33;43m'\u001b[39;49m\u001b[33;43mcalendar\u001b[39;49m\u001b[33;43m'\u001b[39;49m\u001b[43m,\u001b[49m\u001b[43m \u001b[49m\u001b[33;43m'\u001b[39;49m\u001b[33;43mv3\u001b[39;49m\u001b[33;43m'\u001b[39;49m\u001b[43m,\u001b[49m\u001b[43m \u001b[49m\u001b[43mcredentials\u001b[49m\u001b[43m=\u001b[49m\u001b[43mcreds\u001b[49m\u001b[43m)\u001b[49m\n\u001b[32m      3\u001b[39m event = {\n\u001b[32m      4\u001b[39m   \u001b[33m'\u001b[39m\u001b[33msummary\u001b[39m\u001b[33m'\u001b[39m: \u001b[33m'\u001b[39m\u001b[33mRenunion de agentes de IA\u001b[39m\u001b[33m'\u001b[39m,\n\u001b[32m      5\u001b[39m   \u001b[33m'\u001b[39m\u001b[33mlocation\u001b[39m\u001b[33m'\u001b[39m: \u001b[33m'\u001b[39m\u001b[33mOficina principal\u001b[39m\u001b[33m'\u001b[39m,\n\u001b[32m   (...)\u001b[39m\u001b[32m     25\u001b[39m   },\n\u001b[32m     26\u001b[39m }\n\u001b[32m     28\u001b[39m event = service.events().insert(calendarId=\u001b[33m'\u001b[39m\u001b[33mprimary\u001b[39m\u001b[33m'\u001b[39m, body=event).execute()\n",
      "\u001b[36mFile \u001b[39m\u001b[32mc:\\Users\\DELL\\anaconda3\\envs\\agents\\Lib\\site-packages\\googleapiclient\\_helpers.py:130\u001b[39m, in \u001b[36mpositional.<locals>.positional_decorator.<locals>.positional_wrapper\u001b[39m\u001b[34m(*args, **kwargs)\u001b[39m\n\u001b[32m    128\u001b[39m     \u001b[38;5;28;01melif\u001b[39;00m positional_parameters_enforcement == POSITIONAL_WARNING:\n\u001b[32m    129\u001b[39m         logger.warning(message)\n\u001b[32m--> \u001b[39m\u001b[32m130\u001b[39m \u001b[38;5;28;01mreturn\u001b[39;00m \u001b[43mwrapped\u001b[49m\u001b[43m(\u001b[49m\u001b[43m*\u001b[49m\u001b[43margs\u001b[49m\u001b[43m,\u001b[49m\u001b[43m \u001b[49m\u001b[43m*\u001b[49m\u001b[43m*\u001b[49m\u001b[43mkwargs\u001b[49m\u001b[43m)\u001b[49m\n",
      "\u001b[36mFile \u001b[39m\u001b[32mc:\\Users\\DELL\\anaconda3\\envs\\agents\\Lib\\site-packages\\googleapiclient\\discovery.py:315\u001b[39m, in \u001b[36mbuild\u001b[39m\u001b[34m(serviceName, version, http, discoveryServiceUrl, developerKey, model, requestBuilder, credentials, cache_discovery, cache, client_options, adc_cert_path, adc_key_path, num_retries, static_discovery, always_use_jwt_access)\u001b[39m\n\u001b[32m    303\u001b[39m \u001b[38;5;28;01mtry\u001b[39;00m:\n\u001b[32m    304\u001b[39m     content = _retrieve_discovery_doc(\n\u001b[32m    305\u001b[39m         requested_url,\n\u001b[32m    306\u001b[39m         discovery_http,\n\u001b[32m   (...)\u001b[39m\u001b[32m    313\u001b[39m         static_discovery=static_discovery,\n\u001b[32m    314\u001b[39m     )\n\u001b[32m--> \u001b[39m\u001b[32m315\u001b[39m     service = \u001b[43mbuild_from_document\u001b[49m\u001b[43m(\u001b[49m\n\u001b[32m    316\u001b[39m \u001b[43m        \u001b[49m\u001b[43mcontent\u001b[49m\u001b[43m,\u001b[49m\n\u001b[32m    317\u001b[39m \u001b[43m        \u001b[49m\u001b[43mbase\u001b[49m\u001b[43m=\u001b[49m\u001b[43mdiscovery_url\u001b[49m\u001b[43m,\u001b[49m\n\u001b[32m    318\u001b[39m \u001b[43m        \u001b[49m\u001b[43mhttp\u001b[49m\u001b[43m=\u001b[49m\u001b[43mhttp\u001b[49m\u001b[43m,\u001b[49m\n\u001b[32m    319\u001b[39m \u001b[43m        \u001b[49m\u001b[43mdeveloperKey\u001b[49m\u001b[43m=\u001b[49m\u001b[43mdeveloperKey\u001b[49m\u001b[43m,\u001b[49m\n\u001b[32m    320\u001b[39m \u001b[43m        \u001b[49m\u001b[43mmodel\u001b[49m\u001b[43m=\u001b[49m\u001b[43mmodel\u001b[49m\u001b[43m,\u001b[49m\n\u001b[32m    321\u001b[39m \u001b[43m        \u001b[49m\u001b[43mrequestBuilder\u001b[49m\u001b[43m=\u001b[49m\u001b[43mrequestBuilder\u001b[49m\u001b[43m,\u001b[49m\n\u001b[32m    322\u001b[39m \u001b[43m        \u001b[49m\u001b[43mcredentials\u001b[49m\u001b[43m=\u001b[49m\u001b[43mcredentials\u001b[49m\u001b[43m,\u001b[49m\n\u001b[32m    323\u001b[39m \u001b[43m        \u001b[49m\u001b[43mclient_options\u001b[49m\u001b[43m=\u001b[49m\u001b[43mclient_options\u001b[49m\u001b[43m,\u001b[49m\n\u001b[32m    324\u001b[39m \u001b[43m        \u001b[49m\u001b[43madc_cert_path\u001b[49m\u001b[43m=\u001b[49m\u001b[43madc_cert_path\u001b[49m\u001b[43m,\u001b[49m\n\u001b[32m    325\u001b[39m \u001b[43m        \u001b[49m\u001b[43madc_key_path\u001b[49m\u001b[43m=\u001b[49m\u001b[43madc_key_path\u001b[49m\u001b[43m,\u001b[49m\n\u001b[32m    326\u001b[39m \u001b[43m        \u001b[49m\u001b[43malways_use_jwt_access\u001b[49m\u001b[43m=\u001b[49m\u001b[43malways_use_jwt_access\u001b[49m\u001b[43m,\u001b[49m\n\u001b[32m    327\u001b[39m \u001b[43m    \u001b[49m\u001b[43m)\u001b[49m\n\u001b[32m    328\u001b[39m     \u001b[38;5;28;01mbreak\u001b[39;00m  \u001b[38;5;66;03m# exit if a service was created\u001b[39;00m\n\u001b[32m    329\u001b[39m \u001b[38;5;28;01mexcept\u001b[39;00m HttpError \u001b[38;5;28;01mas\u001b[39;00m e:\n",
      "\u001b[36mFile \u001b[39m\u001b[32mc:\\Users\\DELL\\anaconda3\\envs\\agents\\Lib\\site-packages\\googleapiclient\\_helpers.py:130\u001b[39m, in \u001b[36mpositional.<locals>.positional_decorator.<locals>.positional_wrapper\u001b[39m\u001b[34m(*args, **kwargs)\u001b[39m\n\u001b[32m    128\u001b[39m     \u001b[38;5;28;01melif\u001b[39;00m positional_parameters_enforcement == POSITIONAL_WARNING:\n\u001b[32m    129\u001b[39m         logger.warning(message)\n\u001b[32m--> \u001b[39m\u001b[32m130\u001b[39m \u001b[38;5;28;01mreturn\u001b[39;00m \u001b[43mwrapped\u001b[49m\u001b[43m(\u001b[49m\u001b[43m*\u001b[49m\u001b[43margs\u001b[49m\u001b[43m,\u001b[49m\u001b[43m \u001b[49m\u001b[43m*\u001b[49m\u001b[43m*\u001b[49m\u001b[43mkwargs\u001b[49m\u001b[43m)\u001b[49m\n",
      "\u001b[36mFile \u001b[39m\u001b[32mc:\\Users\\DELL\\anaconda3\\envs\\agents\\Lib\\site-packages\\googleapiclient\\discovery.py:616\u001b[39m, in \u001b[36mbuild_from_document\u001b[39m\u001b[34m(service, base, future, http, developerKey, model, requestBuilder, credentials, client_options, adc_cert_path, adc_key_path, always_use_jwt_access)\u001b[39m\n\u001b[32m    613\u001b[39m \u001b[38;5;66;03m# If the user didn't pass in credentials, attempt to acquire application\u001b[39;00m\n\u001b[32m    614\u001b[39m \u001b[38;5;66;03m# default credentials.\u001b[39;00m\n\u001b[32m    615\u001b[39m \u001b[38;5;28;01mif\u001b[39;00m credentials \u001b[38;5;129;01mis\u001b[39;00m \u001b[38;5;28;01mNone\u001b[39;00m:\n\u001b[32m--> \u001b[39m\u001b[32m616\u001b[39m     credentials = \u001b[43m_auth\u001b[49m\u001b[43m.\u001b[49m\u001b[43mdefault_credentials\u001b[49m\u001b[43m(\u001b[49m\n\u001b[32m    617\u001b[39m \u001b[43m        \u001b[49m\u001b[43mscopes\u001b[49m\u001b[43m=\u001b[49m\u001b[43mclient_options\u001b[49m\u001b[43m.\u001b[49m\u001b[43mscopes\u001b[49m\u001b[43m,\u001b[49m\n\u001b[32m    618\u001b[39m \u001b[43m        \u001b[49m\u001b[43mquota_project_id\u001b[49m\u001b[43m=\u001b[49m\u001b[43mclient_options\u001b[49m\u001b[43m.\u001b[49m\u001b[43mquota_project_id\u001b[49m\u001b[43m,\u001b[49m\n\u001b[32m    619\u001b[39m \u001b[43m    \u001b[49m\u001b[43m)\u001b[49m\n\u001b[32m    621\u001b[39m \u001b[38;5;66;03m# Check google-api-core >= 2.18.0 if credentials' universe != \"googleapis.com\".\u001b[39;00m\n\u001b[32m    622\u001b[39m _check_api_core_compatible_with_credentials_universe(credentials)\n",
      "\u001b[36mFile \u001b[39m\u001b[32mc:\\Users\\DELL\\anaconda3\\envs\\agents\\Lib\\site-packages\\googleapiclient\\_auth.py:57\u001b[39m, in \u001b[36mdefault_credentials\u001b[39m\u001b[34m(scopes, quota_project_id)\u001b[39m\n\u001b[32m     55\u001b[39m \u001b[38;5;250m\u001b[39m\u001b[33;03m\"\"\"Returns Application Default Credentials.\"\"\"\u001b[39;00m\n\u001b[32m     56\u001b[39m \u001b[38;5;28;01mif\u001b[39;00m HAS_GOOGLE_AUTH:\n\u001b[32m---> \u001b[39m\u001b[32m57\u001b[39m     credentials, _ = \u001b[43mgoogle\u001b[49m\u001b[43m.\u001b[49m\u001b[43mauth\u001b[49m\u001b[43m.\u001b[49m\u001b[43mdefault\u001b[49m\u001b[43m(\u001b[49m\n\u001b[32m     58\u001b[39m \u001b[43m        \u001b[49m\u001b[43mscopes\u001b[49m\u001b[43m=\u001b[49m\u001b[43mscopes\u001b[49m\u001b[43m,\u001b[49m\u001b[43m \u001b[49m\u001b[43mquota_project_id\u001b[49m\u001b[43m=\u001b[49m\u001b[43mquota_project_id\u001b[49m\n\u001b[32m     59\u001b[39m \u001b[43m    \u001b[49m\u001b[43m)\u001b[49m\n\u001b[32m     60\u001b[39m     \u001b[38;5;28;01mreturn\u001b[39;00m credentials\n\u001b[32m     61\u001b[39m \u001b[38;5;28;01melif\u001b[39;00m HAS_OAUTH2CLIENT:\n",
      "\u001b[36mFile \u001b[39m\u001b[32mc:\\Users\\DELL\\anaconda3\\envs\\agents\\Lib\\site-packages\\google\\auth\\_default.py:685\u001b[39m, in \u001b[36mdefault\u001b[39m\u001b[34m(scopes, request, quota_project_id, default_scopes)\u001b[39m\n\u001b[32m    677\u001b[39m             _LOGGER.warning(\n\u001b[32m    678\u001b[39m                 \u001b[33m\"\u001b[39m\u001b[33mNo project ID could be determined. Consider running \u001b[39m\u001b[33m\"\u001b[39m\n\u001b[32m    679\u001b[39m                 \u001b[33m\"\u001b[39m\u001b[33m`gcloud config set project` or setting the \u001b[39m\u001b[38;5;132;01m%s\u001b[39;00m\u001b[33m \u001b[39m\u001b[33m\"\u001b[39m\n\u001b[32m    680\u001b[39m                 \u001b[33m\"\u001b[39m\u001b[33menvironment variable\u001b[39m\u001b[33m\"\u001b[39m,\n\u001b[32m    681\u001b[39m                 environment_vars.PROJECT,\n\u001b[32m    682\u001b[39m             )\n\u001b[32m    683\u001b[39m         \u001b[38;5;28;01mreturn\u001b[39;00m credentials, effective_project_id\n\u001b[32m--> \u001b[39m\u001b[32m685\u001b[39m \u001b[38;5;28;01mraise\u001b[39;00m exceptions.DefaultCredentialsError(_CLOUD_SDK_MISSING_CREDENTIALS)\n",
      "\u001b[31mDefaultCredentialsError\u001b[39m: Your default credentials were not found. To set up Application Default Credentials, see https://cloud.google.com/docs/authentication/external/set-up-adc for more information."
     ]
    }
   ],
   "source": [
    "service = build('calendar', 'v3', credentials=creds)\n",
    "\n",
    "event = {\n",
    "  'summary': 'Renunion de agentes de IA',\n",
    "  'location': 'Oficina principal',\n",
    "  'description': 'Asistirir formal',\n",
    "  'start': {\n",
    "    'dateTime': '2015-09-14T09:00:00-07:00',\n",
    "    'timeZone': 'America/Guayaquil',\n",
    "  },\n",
    "  'end': {\n",
    "    'dateTime': '2015-09-14T09:20:00-07:00',\n",
    "    'timeZone': 'America/Guayaquil',\n",
    "  },\n",
    "  'attendees': [\n",
    "    {'email': 'lpage@example.com'},\n",
    "    {'email': 'sbrin@example.com'},\n",
    "  ],\n",
    "  'reminders': {\n",
    "    'useDefault': False,\n",
    "    'overrides': [\n",
    "      {'method': 'email', 'minutes': 24 * 60},\n",
    "      {'method': 'popup', 'minutes': 10},\n",
    "    ],\n",
    "  },\n",
    "}\n",
    "\n",
    "event = service.events().insert(calendarId='primary', body=event).execute()\n",
    "print('Event created: %s' % (event.get('htmlLink')))\n"
   ]
  },
  {
   "cell_type": "code",
   "execution_count": null,
   "id": "d561d7c9",
   "metadata": {},
   "outputs": [],
   "source": []
  }
 ],
 "metadata": {
  "kernelspec": {
   "display_name": "agents",
   "language": "python",
   "name": "python3"
  },
  "language_info": {
   "codemirror_mode": {
    "name": "ipython",
    "version": 3
   },
   "file_extension": ".py",
   "mimetype": "text/x-python",
   "name": "python",
   "nbconvert_exporter": "python",
   "pygments_lexer": "ipython3",
   "version": "3.11.13"
  }
 },
 "nbformat": 4,
 "nbformat_minor": 5
}
