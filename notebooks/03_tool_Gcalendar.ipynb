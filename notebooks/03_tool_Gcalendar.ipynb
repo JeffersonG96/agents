{
 "cells": [
  {
   "cell_type": "markdown",
   "id": "9faf7037",
   "metadata": {},
   "source": [
    "### Google calendar como tool"
   ]
  },
  {
   "cell_type": "markdown",
   "id": "158e3111",
   "metadata": {},
   "source": [
    "Instalar la librería de Google Client"
   ]
  },
  {
   "cell_type": "code",
   "execution_count": 13,
   "id": "24d6875d",
   "metadata": {},
   "outputs": [],
   "source": [
    "#se instala usando poetry\n",
    "#poetry install google-api-python-client google-auth-httplib2 google-auth-oauthlib"
   ]
  },
  {
   "cell_type": "code",
   "execution_count": 14,
   "id": "1b011831",
   "metadata": {},
   "outputs": [],
   "source": [
    "#import básicas\n",
    "import datetime\n",
    "import os\n",
    "import io  # Para manejo de JSON"
   ]
  },
  {
   "cell_type": "code",
   "execution_count": 15,
   "id": "ba9094f3",
   "metadata": {},
   "outputs": [],
   "source": [
    "from google.auth.transport.requests import Request\n",
    "from google.oauth2.credentials import Credentials\n",
    "from google_auth_oauthlib.flow import InstalledAppFlow\n",
    "from googleapiclient.discovery import build\n",
    "from googleapiclient.errors import HttpError\n",
    "\n",
    "# Scope para acceso de lectura/escritura en Calendar\n",
    "SCOPES = ['https://www.googleapis.com/auth/calendar']\n",
    "\n",
    "def auth_google_calendar():\n",
    "    creds = None\n",
    "    token_google = 'token_google'  \n",
    "    credentials_file = '../credentials.json'  \n",
    "    \n",
    "    # Verifica si el archivo de token existe y es válido\n",
    "    if os.path.exists(token_google):\n",
    "        try:\n",
    "            creds = Credentials.from_authorized_user_file(token_google, SCOPES)\n",
    "            print(\"Token cargado correctamente\")\n",
    "        except ValueError as e:\n",
    "            print(f\"Error en el token: {e}. Borrando y regenerando...\")\n",
    "            os.remove(token_google)  # Borra automáticamente el archivo malo\n",
    "            creds = None  # Fuerza reautorización\n",
    "    \n",
    "    # Si no hay credenciales válidas, autoriza\n",
    "    if not creds or not creds.valid:\n",
    "        if creds and creds.expired and creds.refresh_token:\n",
    "            creds.refresh(Request())\n",
    "        else:\n",
    "            if not os.path.exists(credentials_file):\n",
    "                print(f\"Error: No se encuentra {credentials_file}. Descárgalo de Google Cloud Console.\")\n",
    "                return\n",
    "            flow = InstalledAppFlow.from_client_secrets_file(credentials_file, SCOPES)\n",
    "            creds = flow.run_local_server(port=0)\n",
    "        # Guarda las credenciales para la próxima vez\n",
    "        with open(token_google, 'w') as token:\n",
    "            token.write(creds.to_json())\n",
    "        print(f\"Token guardado en {token_google}.\")\n",
    "    return build('calendar','v3',credentials=creds)\n"
   ]
  },
  {
   "cell_type": "code",
   "execution_count": 16,
   "id": "d561d7c9",
   "metadata": {},
   "outputs": [],
   "source": [
    "def new_event(service, **kwargs):    \n",
    "        \n",
    "    # Configura el evento básico\n",
    "    event = {\n",
    "        'summary': kwargs.get('summary','TEST Reunión de Prueba con IA'),\n",
    "        'location': 'Oficina',\n",
    "        'description': kwargs.get('description', 'Evento creado con Python y Google Calendar API'),\n",
    "        'start': {\n",
    "            'dateTime': kwargs.get('date','2025-09-30T10:00:00-05:00'),  # Mañana a las 10 AM (ajusta)\n",
    "            'timeZone': 'America/Guayaquil',  # Timezone Ecuador\n",
    "        },\n",
    "        'end': {\n",
    "            'dateTime': kwargs.get('date','2025-09-30T10:00:00-05:00'),\n",
    "            'timeZone': 'America/Guayaquil',\n",
    "        },\n",
    "        'attendees': [\n",
    "            {'email': 'tu-email@ejemplo.com'},  # Agrega emails reales\n",
    "        ],\n",
    "        'reminders': {\n",
    "            'useDefault': False,\n",
    "            'overrides': [\n",
    "                {'method': 'email', 'minutes': 24 * 60},  # Email 1 día antes\n",
    "                {'method': 'popup', 'minutes': 10},       # Popup 10 min antes\n",
    "            ],\n",
    "        },\n",
    "    }\n",
    "        \n",
    "    try:\n",
    "        # Crea el evento en el calendario principal\n",
    "        event = service.events().insert(calendarId='primary', body=event).execute()\n",
    "        print(f'Evento creado exitosamente: {event.get(\"htmlLink\")}')\n",
    "        return event\n",
    "        \n",
    "    except HttpError as error:\n",
    "        print(f'Error al crear el evento: {error}')\n",
    "        return None"
   ]
  },
  {
   "cell_type": "code",
   "execution_count": 17,
   "id": "659c69c9",
   "metadata": {},
   "outputs": [],
   "source": [
    "# tool crear evento\n",
    "from typing_extensions import TypedDict\n",
    "\n",
    "class EventInput(TypedDict):\n",
    "    summary: str\n",
    "    current_date: str\n",
    "    current_time: str | None\n",
    "\n",
    "def create_event(event: EventInput) -> str:\n",
    "    \"\"\"\n",
    "    tool: agenda citas en google calendar, determina la fecha exacta que te pide el usuario \n",
    "\n",
    "    \"\"\"\n",
    "    service = auth_google_calendar()\n",
    "    if service:\n",
    "        date_event=event[\"current_date\"] + \"T\" + event[\"current_time\"] + \":00\" + '-05:00'\n",
    "        new_event(service,summary=event[\"summary\"],date=date_event,time=event[\"current_time\"])\n",
    "        \n",
    "        return \"evento creado correctamente\"\n"
   ]
  },
  {
   "cell_type": "code",
   "execution_count": 18,
   "id": "32054e84",
   "metadata": {},
   "outputs": [],
   "source": [
    "# tool fecha actual\n",
    "from datetime import datetime, date\n",
    "\n",
    "class CurrentInput(TypedDict):\n",
    "    summary: str\n",
    "    current_date: str\n",
    "    current_time: str | None\n",
    "\n",
    "def current_date_time(event: EventInput) -> EventInput:\n",
    "    \"\"\"\n",
    "    Tool: cuando el usuario hable de tiempo usa esta herramienta para determinar la fecha actual,\n",
    "    realiza las operaciones necesarias para cumplir con la fecha que pide el usuario\n",
    "    \"\"\"\n",
    "    today = date.today().isoformat()\n",
    "    # current_time = datetime.now().isoformat()\n",
    "    return {\"current_date\":today, \"current_time\": event[\"current_time\"], \"summary\": event[\"summary\"]}"
   ]
  },
  {
   "cell_type": "code",
   "execution_count": 19,
   "id": "4636e8fd",
   "metadata": {},
   "outputs": [],
   "source": [
    "#tool consultar eventos\n",
    "from typing_extensions import TypedDict\n",
    "\n",
    "class GetEvent(TypedDict):\n",
    "    date: str\n",
    "\n",
    "def get_events(getevent: GetEvent) -> str:\n",
    "    \"\"\"\n",
    "    tool: consulta las citas en google calendar, \n",
    "    pasa la fecha que esta requiriendo el usuario\n",
    "\n",
    "    \"\"\"\n",
    "    service = auth_google_calendar()\n",
    "    if service:\n",
    "        time_min = getevent[\"date\"] + \"T01:00:00Z\"\n",
    "        time_max = getevent[\"date\"] + \"T23:00:00Z\"\n",
    "\n",
    "        events_result = service.events().list(\n",
    "        calendarId=\"primary\",  \n",
    "        timeMin=time_min,\n",
    "        timeMax=time_max,\n",
    "        singleEvents=True,\n",
    "        orderBy=\"startTime\"\n",
    "        ).execute()\n",
    "\n",
    "    events = events_result.get(\"items\", [])\n",
    "\n",
    "    if not events:\n",
    "        return \"No hay eventos en este día.\"\n",
    "    else:\n",
    "        lista_eventos=[]\n",
    "        for event in events:\n",
    "            start = event[\"start\"].get(\"dateTime\", event[\"start\"].get(\"date\"))\n",
    "            lista_eventos.append(f\"- {event['summary']} a las {start}\")\n",
    "        return lista_eventos"
   ]
  },
  {
   "cell_type": "code",
   "execution_count": 20,
   "id": "5aa9be83",
   "metadata": {},
   "outputs": [],
   "source": [
    "#tool suma\n",
    "def tool_add(a: int, b:int) -> int:\n",
    "    \"\"\"suma a y b\n",
    "    \n",
    "    Args: \n",
    "        a (int): primero\n",
    "        b (int): segundo  \n",
    "\n",
    "    Returns:\n",
    "        int: la suma de a y b\n",
    "\n",
    "    \"\"\"\n",
    "    return a + b"
   ]
  },
  {
   "cell_type": "code",
   "execution_count": 21,
   "id": "4944dc1e",
   "metadata": {},
   "outputs": [],
   "source": [
    "# event_request = {\"date\": \"2025-09-21\"}\n",
    "# print(get_events(event_request))\n"
   ]
  },
  {
   "cell_type": "code",
   "execution_count": 22,
   "id": "27588860",
   "metadata": {},
   "outputs": [],
   "source": [
    "#call tools\n",
    "from langchain_openai import ChatOpenAI\n",
    "tools = [current_date_time,create_event, get_events, tool_add]\n",
    "llm=ChatOpenAI(model=\"gpt-4o-mini\")\n",
    "# llm_with_tools = llm.bind_tools(tools)\n",
    "llm_with_tools = llm.bind_tools(tools, parallel_tool_calls=False)"
   ]
  },
  {
   "cell_type": "code",
   "execution_count": 23,
   "id": "1b347dd7",
   "metadata": {},
   "outputs": [],
   "source": [
    "#prompt\n",
    "from langchain_core.messages import SystemMessage, HumanMessage\n",
    "system_msg = SystemMessage(content=\"eres un asistente útil cuya tarea es identificar fechas del usuario\")"
   ]
  },
  {
   "cell_type": "code",
   "execution_count": 24,
   "id": "6f188a07",
   "metadata": {},
   "outputs": [],
   "source": [
    "#\n",
    "from typing import Annotated, TypedDict\n",
    "from langgraph.graph.message import add_messages\n",
    "from langchain_core.messages import AnyMessage\n",
    "\n",
    "class State(TypedDict):\n",
    "    messages: Annotated[list[AnyMessage], add_messages]"
   ]
  },
  {
   "cell_type": "code",
   "execution_count": 25,
   "id": "1ed1df93",
   "metadata": {},
   "outputs": [],
   "source": [
    "#node\n",
    "def assistant(state: State) -> State:\n",
    "    return {\"messages\": [llm_with_tools.invoke([system_msg] + state[\"messages\"])]}"
   ]
  },
  {
   "cell_type": "code",
   "execution_count": 26,
   "id": "5de9e2ba",
   "metadata": {},
   "outputs": [],
   "source": [
    "#langraph\n",
    "from langgraph.graph import START, StateGraph\n",
    "from langgraph.prebuilt import tools_condition\n",
    "from langgraph.prebuilt import ToolNode\n",
    "\n",
    "#Graph\n",
    "builder = StateGraph(State)\n",
    "\n",
    "#nodes\n",
    "builder.add_node(\"assistant\", assistant)\n",
    "builder.add_node(\"tools\", ToolNode(tools))\n",
    "\n",
    "#Define edge (secuencia)\n",
    "builder.add_edge(START, \"assistant\")\n",
    "builder.add_conditional_edges(\"assistant\",tools_condition)\n",
    "builder.add_edge(\"tools\",\"assistant\")\n",
    "\n",
    "#Compile\n",
    "graph=builder.compile()"
   ]
  },
  {
   "cell_type": "code",
   "execution_count": 27,
   "id": "68b379d2",
   "metadata": {},
   "outputs": [
    {
     "data": {
      "image/png": "[encoded data removed]",
      "text/plain": [
       "<IPython.core.display.Image object>"
      ]
     },
     "metadata": {},
     "output_type": "display_data"
    }
   ],
   "source": [
    "from IPython.display import Image, display\n",
    "\n",
    "display(Image(graph.get_graph(xray=True).draw_mermaid_png()))"
   ]
  },
  {
   "cell_type": "markdown",
   "id": "b0990dbe",
   "metadata": {},
   "source": [
    "### Memoria\n",
    "Se necesita especificar el thread_id, este será el encargado de almacenar los estados del graph de la colección "
   ]
  },
  {
   "cell_type": "code",
   "execution_count": 28,
   "id": "4ee41daf",
   "metadata": {},
   "outputs": [],
   "source": [
    "# configurando memoria \n",
    "from langgraph.checkpoint.memory import MemorySaver\n",
    "memory = MemorySaver()\n",
    "graph = builder.compile(checkpointer=memory)"
   ]
  },
  {
   "cell_type": "code",
   "execution_count": 29,
   "id": "38f9f434",
   "metadata": {},
   "outputs": [],
   "source": [
    "# especificar un thread\n",
    "config = {\"configurable\": {\"thread_id\": \"1\"}}"
   ]
  },
  {
   "cell_type": "markdown",
   "id": "029b2eb8",
   "metadata": {},
   "source": [
    "#### Mensajes"
   ]
  },
  {
   "cell_type": "code",
   "execution_count": 30,
   "id": "e0f5fe32",
   "metadata": {},
   "outputs": [],
   "source": [
    "messages = [HumanMessage(content=\"suma a eso mas 4\")]\n",
    "messages = graph.invoke({\"messages\": messages},config)"
   ]
  },
  {
   "cell_type": "code",
   "execution_count": 31,
   "id": "7bf5b32a",
   "metadata": {},
   "outputs": [
    {
     "name": "stdout",
     "output_type": "stream",
     "text": [
      "================================\u001b[1m Human Message \u001b[0m=================================\n",
      "\n",
      "suma a eso mas 4\n",
      "==================================\u001b[1m Ai Message \u001b[0m==================================\n",
      "Tool Calls:\n",
      "  tool_add (call_TsO6i5GSziaDQ7lt2wd8ChWo)\n",
      " Call ID: call_TsO6i5GSziaDQ7lt2wd8ChWo\n",
      "  Args:\n",
      "    a: 3\n",
      "    b: 4\n",
      "=================================\u001b[1m Tool Message \u001b[0m=================================\n",
      "Name: tool_add\n",
      "\n",
      "7\n",
      "==================================\u001b[1m Ai Message \u001b[0m==================================\n",
      "\n",
      "La suma de 3 más 4 es 7.\n"
     ]
    }
   ],
   "source": [
    "for m in messages['messages']:\n",
    "    m.pretty_print()"
   ]
  },
  {
   "cell_type": "code",
   "execution_count": 32,
   "id": "b337df6e",
   "metadata": {},
   "outputs": [
    {
     "data": {
      "text/plain": [
       "{'messages': [HumanMessage(content='suma a eso mas 4', additional_kwargs={}, response_metadata={}, id='14fa7feb-5d19-46f0-88e4-92007e4ad340'),\n",
       "  AIMessage(content='', additional_kwargs={'tool_calls': [{'id': 'call_TsO6i5GSziaDQ7lt2wd8ChWo', 'function': {'arguments': '{\"a\":3,\"b\":4}', 'name': 'tool_add'}, 'type': 'function'}], 'refusal': None}, response_metadata={'token_usage': {'completion_tokens': 18, 'prompt_tokens': 222, 'total_tokens': 240, 'completion_tokens_details': {'accepted_prediction_tokens': 0, 'audio_tokens': 0, 'reasoning_tokens': 0, 'rejected_prediction_tokens': 0}, 'prompt_tokens_details': {'audio_tokens': 0, 'cached_tokens': 0}}, 'model_name': 'gpt-4o-mini-2024-07-18', 'system_fingerprint': 'fp_51db84afab', 'id': 'chatcmpl-CSOpTFcnCtgmqk1mnnJhq2lYjDBpz', 'service_tier': 'default', 'finish_reason': 'tool_calls', 'logprobs': None}, id='run--63f07819-f276-457d-9ef9-c5d7c312d38d-0', tool_calls=[{'name': 'tool_add', 'args': {'a': 3, 'b': 4}, 'id': 'call_TsO6i5GSziaDQ7lt2wd8ChWo', 'type': 'tool_call'}], usage_metadata={'input_tokens': 222, 'output_tokens': 18, 'total_tokens': 240, 'input_token_details': {'audio': 0, 'cache_read': 0}, 'output_token_details': {'audio': 0, 'reasoning': 0}}),\n",
       "  ToolMessage(content='7', name='tool_add', id='0542bfd6-8e2e-4caf-9eb4-05977e7e924e', tool_call_id='call_TsO6i5GSziaDQ7lt2wd8ChWo'),\n",
       "  AIMessage(content='La suma de 3 más 4 es 7.', additional_kwargs={'refusal': None}, response_metadata={'token_usage': {'completion_tokens': 13, 'prompt_tokens': 249, 'total_tokens': 262, 'completion_tokens_details': {'accepted_prediction_tokens': 0, 'audio_tokens': 0, 'reasoning_tokens': 0, 'rejected_prediction_tokens': 0}, 'prompt_tokens_details': {'audio_tokens': 0, 'cached_tokens': 0}}, 'model_name': 'gpt-4o-mini-2024-07-18', 'system_fingerprint': 'fp_51db84afab', 'id': 'chatcmpl-CSOpUYX3o4W09MhQgjpYZ8dflHRgH', 'service_tier': 'default', 'finish_reason': 'stop', 'logprobs': None}, id='run--6d1904f2-8038-49ca-8cfd-d148dba42a48-0', usage_metadata={'input_tokens': 249, 'output_tokens': 13, 'total_tokens': 262, 'input_token_details': {'audio': 0, 'cache_read': 0}, 'output_token_details': {'audio': 0, 'reasoning': 0}})]}"
      ]
     },
     "execution_count": 32,
     "metadata": {},
     "output_type": "execute_result"
    }
   ],
   "source": [
    "messages"
   ]
  },
  {
   "cell_type": "code",
   "execution_count": null,
   "id": "ae813873",
   "metadata": {},
   "outputs": [],
   "source": []
  }
 ],
 "metadata": {
  "kernelspec": {
   "display_name": "agents",
   "language": "python",
   "name": "python3"
  },
  "language_info": {
   "codemirror_mode": {
    "name": "ipython",
    "version": 3
   },
   "file_extension": ".py",
   "mimetype": "text/x-python",
   "name": "python",
   "nbconvert_exporter": "python",
   "pygments_lexer": "ipython3",
   "version": "3.11.13"
  }
 },
 "nbformat": 4,
 "nbformat_minor": 5
}
