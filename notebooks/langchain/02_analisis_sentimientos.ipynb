{
 "cells": [
  {
   "cell_type": "markdown",
   "id": "aa0fe929",
   "metadata": {},
   "source": [
    "## Análisis de sentimientos\n",
    "##### RunnableLambda y chains"
   ]
  },
  {
   "attachments": {
    "image.png": {
     "image/png": "[encoded data removed]"
    }
   },
   "cell_type": "markdown",
   "id": "74d3c918",
   "metadata": {},
   "source": [
    "Arquitsectura del analizador de sentimientos\n",
    "\n",
    "![image.png](attachment:image.png)"
   ]
  },
  {
   "cell_type": "code",
   "execution_count": 31,
   "id": "3a66f4ae",
   "metadata": {},
   "outputs": [
    {
     "name": "stdout",
     "output_type": "stream",
     "text": [
      "cargado correctamente\n"
     ]
    }
   ],
   "source": [
    "import os\n",
    "from dotenv import load_dotenv\n",
    "\n",
    "load_dotenv()\n",
    "\n",
    "if os.getenv(\"OPENAI_API_KEY\"):\n",
    "    print(\"cargado correctamente\")"
   ]
  },
  {
   "cell_type": "code",
   "execution_count": 32,
   "id": "a735a04a",
   "metadata": {},
   "outputs": [],
   "source": [
    "from langchain_core.runnables import RunnableLambda, RunnableParallel\n",
    "from langchain_openai import ChatOpenAI\n",
    "\n",
    "llm = ChatOpenAI(model=\"gpt-4o-mini\", temperature=0)"
   ]
  },
  {
   "cell_type": "code",
   "execution_count": 33,
   "id": "7b8931ba",
   "metadata": {},
   "outputs": [],
   "source": [
    "#Preprocesador de texto\n",
    "def preprocesar_text(text):\n",
    "    \"\"\"Limpia el texto eliminando extras y limitando longitud\"\"\"\n",
    "    return text.strip()[:500]\n",
    "\n",
    "preprocessor = RunnableLambda(preprocesar_text)"
   ]
  },
  {
   "cell_type": "code",
   "execution_count": 34,
   "id": "f0975465",
   "metadata": {},
   "outputs": [],
   "source": [
    "#Generar Resumen\n",
    "def generate_summary(text):\n",
    "    \"\"\"Genera un resumen conciso del texto\"\"\"\n",
    "    prompt = f\"Resume en pocas palabras: {text}\"\n",
    "    response = llm.invoke(prompt)\n",
    "    return response.content\n",
    "\n",
    "summary_branch = RunnableLambda(generate_summary)"
   ]
  },
  {
   "cell_type": "code",
   "execution_count": 35,
   "id": "da5b52a6",
   "metadata": {},
   "outputs": [],
   "source": [
    "#Análisis de sentimientos en formato Json\n",
    "import json\n",
    "def analyze_sentiment(text):\n",
    "    \"Analiza el sentimiento y devuelvve en formato estructurado\"\n",
    "    prompt = f\"\"\"Analiza el sentimiento del siguiente texto. Responde ÚNICAMENTE en formato JSON válido: {{\"sentimiento\":\"positivo|negativo|neutro\",\"razon\":\"justificacion breve}}\n",
    "    Texto: {text}\"\"\"\n",
    "    response = llm.invoke(prompt)\n",
    "    try:\n",
    "        return json.loads(response.content)\n",
    "    except json.JSONDecodeError:\n",
    "        return {\"sentimiento\": \"neutro\", \"razon\":\"Error al analizar\"}\n",
    "\n",
    "sentimient_branch = RunnableLambda(analyze_sentiment)"
   ]
  },
  {
   "cell_type": "code",
   "execution_count": 36,
   "id": "74f8ec38",
   "metadata": {},
   "outputs": [],
   "source": [
    "#Combinacion de resultados\n",
    "def merge_results(data):\n",
    "    \"\"\"Combina los resultados de ambas ramas en un formato unificado\"\"\"\n",
    "    return {\n",
    "        \"resumen\": data[\"resumen\"],\n",
    "        \"sentimiento\": data[\"sentimiento_data\"][\"sentimiento\"],\n",
    "        \"razon\": data[\"sentimiento_data\"][\"razon\"]\n",
    "    }\n",
    "\n",
    "merge = RunnableLambda(merge_results)"
   ]
  },
  {
   "cell_type": "code",
   "execution_count": 37,
   "id": "b35260a0",
   "metadata": {},
   "outputs": [],
   "source": [
    "#Ejecuta las funciones en paralelo\n",
    "parallel_analysis = RunnableParallel({\n",
    "    \"resumen\":summary_branch,\n",
    "    \"sentimiento_data\":sentimient_branch\n",
    "})"
   ]
  },
  {
   "cell_type": "code",
   "execution_count": 38,
   "id": "2ca20b4b",
   "metadata": {},
   "outputs": [
    {
     "data": {
      "text/plain": [
       "{'resumen': 'El usuario solicita ayuda para revisar su conexión a internet, ya que está muy lenta y no tiene servicio desde hace 8 días.',\n",
       " 'sentimiento': 'negativo',\n",
       " 'razon': 'El texto expresa frustración y una necesidad urgente de asistencia debido a un problema con el servicio de internet.'}"
      ]
     },
     "execution_count": 38,
     "metadata": {},
     "output_type": "execute_result"
    }
   ],
   "source": [
    "#chain\n",
    "chain = preprocessor | parallel_analysis | merge\n",
    "chain.invoke(\"Hola necesito que me revise mi internet, esta superlento no tengo serviso 8 dias, ayuda\")"
   ]
  },
  {
   "cell_type": "code",
   "execution_count": 39,
   "id": "b103f000",
   "metadata": {},
   "outputs": [
    {
     "data": {
      "text/plain": [
       "[{'resumen': 'Producto excelente, muy satisfecho con la compra.',\n",
       "  'sentimiento': 'positivo',\n",
       "  'razon': 'El texto expresa satisfacción y aprecio por el producto adquirido.'},\n",
       " {'resumen': 'Mala calidad, no lo recomiendo.',\n",
       "  'sentimiento': 'negativo',\n",
       "  'razon': 'El texto expresa descontento y una recomendación negativa sobre la calidad del producto.'},\n",
       " {'resumen': 'Es funcional, pero no destaca por nada en particular.',\n",
       "  'sentimiento': 'neutro',\n",
       "  'razon': 'El texto expresa una opinión que reconoce la funcionalidad básica, pero también indica que no hay nada destacable o especial, lo que sugiere una falta de entusiasmo.'}]"
      ]
     },
     "execution_count": 39,
     "metadata": {},
     "output_type": "execute_result"
    }
   ],
   "source": [
    "#reviews\n",
    "review_batch = [\n",
    "    \"Excelente producto, muy satisfecho con la compra\",\n",
    "    \"Terrible calidad, no lo recomiendo  para nada\",\n",
    "    \"Esta bien, su fución básica pero nada especial\"\n",
    "]\n",
    "\n",
    "#Procesamiento de entrada por lotes - batch se utiliza a cambio de invoke\n",
    "resultado = chain.batch(review_batch)\n",
    "resultado"
   ]
  },
  {
   "cell_type": "markdown",
   "id": "28963763",
   "metadata": {},
   "source": [
    "Aqui se pensaba ejecutar en serie (chain) pero se puede ejecutar en paralelo con la funcion RunnableParallel\n",
    "\n",
    "Conclusion: Al ejecutar en paralelo se disminuye el tiempo de ejecucion, se puede decir que en paralelo es mas rápido"
   ]
  },
  {
   "cell_type": "code",
   "execution_count": 40,
   "id": "0fbdd8b5",
   "metadata": {},
   "outputs": [],
   "source": [
    "# def procces_one(t):\n",
    "#     resumen = generate_summary(t)\n",
    "#     sentimiento_data = analyze_sentiment(t)\n",
    "#     return merge_results(resumen,sentimiento_data)\n",
    "\n",
    "# process = RunnableLambda(procces_one)"
   ]
  },
  {
   "cell_type": "code",
   "execution_count": null,
   "id": "b476b770",
   "metadata": {},
   "outputs": [],
   "source": []
  }
 ],
 "metadata": {
  "kernelspec": {
   "display_name": "agents",
   "language": "python",
   "name": "python3"
  },
  "language_info": {
   "codemirror_mode": {
    "name": "ipython",
    "version": 3
   },
   "file_extension": ".py",
   "mimetype": "text/x-python",
   "name": "python",
   "nbconvert_exporter": "python",
   "pygments_lexer": "ipython3",
   "version": "3.11.13"
  }
 },
 "nbformat": 4,
 "nbformat_minor": 5
}
