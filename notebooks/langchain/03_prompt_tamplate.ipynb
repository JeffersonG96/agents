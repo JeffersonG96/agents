{
 "cells": [
  {
   "cell_type": "markdown",
   "id": "1ffc21d9",
   "metadata": {},
   "source": [
    "### Prompt Engineering Template  "
   ]
  },
  {
   "cell_type": "markdown",
   "id": "8eb28c72",
   "metadata": {},
   "source": [
    "Revisar si los datos se estan reemplazando corentamente en una platilla de prompt "
   ]
  },
  {
   "cell_type": "code",
   "execution_count": 1,
   "id": "6bffed9c",
   "metadata": {},
   "outputs": [
    {
     "data": {
      "text/plain": [
       "'Eres un experto en marketing. Sugiere un eslogan creativo para un producto: equipo gps'"
      ]
     },
     "execution_count": 1,
     "metadata": {},
     "output_type": "execute_result"
    }
   ],
   "source": [
    "#Es básico\n",
    "from langchain_core.prompts import PromptTemplate\n",
    "\n",
    "template = \"Eres un experto en marketing. Sugiere un eslogan creativo para un producto: {producto}\"\n",
    "\n",
    "prompt = PromptTemplate(\n",
    "    template=template,\n",
    "    input_variables=[\"producto\"]\n",
    ")\n",
    "\n",
    "#Ver como esta compuesto el prompt\n",
    "promt_completo = prompt.format(producto=\"equipo gps\")\n",
    "promt_completo"
   ]
  },
  {
   "cell_type": "code",
   "execution_count": 2,
   "id": "8b4ea654",
   "metadata": {},
   "outputs": [
    {
     "name": "stdout",
     "output_type": "stream",
     "text": [
      "<class 'langchain_core.messages.system.SystemMessage'>: Eres un traductor del español al inglés muy preciso\n",
      "<class 'langchain_core.messages.human.HumanMessage'>: Hola, ¿cómo estás?\n"
     ]
    }
   ],
   "source": [
    "#chatfromtemplate: permite definir una lista de mensajes en el template\n",
    "from langchain_core.prompts import ChatPromptTemplate\n",
    "\n",
    "chat_prompt = ChatPromptTemplate.from_messages([\n",
    "    (\"system\",\"Eres un traductor del español al inglés muy preciso\"),\n",
    "    (\"human\",\"{texto}\")\n",
    "])\n",
    "\n",
    "mensajes = chat_prompt.format_messages(texto = \"Hola, ¿cómo estás?\")\n",
    "\n",
    "for m in mensajes:\n",
    "    print(f\"{type(m)}: {m.content}\")"
   ]
  },
  {
   "cell_type": "code",
   "execution_count": 4,
   "id": "b076841d",
   "metadata": {},
   "outputs": [
    {
     "name": "stdout",
     "output_type": "stream",
     "text": [
      "cargado correctamente\n"
     ]
    }
   ],
   "source": [
    "import os\n",
    "from dotenv import load_dotenv\n",
    "\n",
    "load_dotenv()\n",
    "\n",
    "if os.getenv(\"OPENAI_API_KEY\"):\n",
    "    print(\"cargado correctamente\")"
   ]
  },
  {
   "cell_type": "code",
   "execution_count": 13,
   "id": "41b235a9",
   "metadata": {},
   "outputs": [],
   "source": [
    "from langchain_openai import ChatOpenAI\n",
    "\n",
    "llm = ChatOpenAI(model=\"gpt-4o-mini\",temperature=0.6)"
   ]
  },
  {
   "cell_type": "code",
   "execution_count": 25,
   "id": "7ed52146",
   "metadata": {},
   "outputs": [
    {
     "data": {
      "text/plain": [
       "AIMessage(content='Claro, aquí tienes algunas recomendaciones para comprar una buena computadora gamer:\\n\\n1. **Procesador (CPU)**: Busca un procesador potente, como un Intel Core i7 o i9, o un AMD Ryzen 7 o 9.\\n  \\n2. **Tarjeta gráfica (GPU)**: La GPU es crucial para los juegos. Considera opciones como NVIDIA GeForce RTX 3060, 3070, 3080 o AMD Radeon RX 6000 series.\\n\\n3. **Memoria RAM**: Al menos 16 GB de RAM es recomendable para una experiencia fluida.\\n\\n4. **Almacenamiento**: Un SSD de 512 GB o más para tiempos de carga rápidos, junto con un HDD para almacenamiento adicional, es una buena combinación.\\n\\n5. **Placa base**: Asegúrate de que sea compatible con tu CPU y GPU.\\n\\n6. **Fuente de alimentación**: Debe ser de buena calidad y con suficiente potencia para soportar todos los componentes.\\n\\n7. **Refrigeración**: Considera un buen sistema de refrigeración para mantener la temperatura baja durante largas sesiones de juego.\\n\\n8. **Monitor**: No olvides un buen monitor con alta tasa de refresco (144 Hz o más) y baja latencia.\\n\\n¿Tienes un presupuesto específico o alguna preferencia en marcas?', additional_kwargs={'refusal': None}, response_metadata={'token_usage': {'completion_tokens': 269, 'prompt_tokens': 75, 'total_tokens': 344, 'completion_tokens_details': {'accepted_prediction_tokens': 0, 'audio_tokens': 0, 'reasoning_tokens': 0, 'rejected_prediction_tokens': 0}, 'prompt_tokens_details': {'audio_tokens': 0, 'cached_tokens': 0}}, 'model_name': 'gpt-4o-mini-2024-07-18', 'system_fingerprint': 'fp_560af6e559', 'id': 'chatcmpl-CUXmqEAvuVzsDN4uti4EwNOykLTxq', 'service_tier': 'default', 'finish_reason': 'stop', 'logprobs': None}, id='lc_run--ddf9f570-48d5-4abc-b4ab-31f10e16c251-0', usage_metadata={'input_tokens': 75, 'output_tokens': 269, 'total_tokens': 344, 'input_token_details': {'audio': 0, 'cache_read': 0}, 'output_token_details': {'audio': 0, 'reasoning': 0}})"
      ]
     },
     "execution_count": 25,
     "metadata": {},
     "output_type": "execute_result"
    }
   ],
   "source": [
    "from langchain_core.messages import AIMessage, HumanMessage, SystemMessage\n",
    "\n",
    "historial = [\"hola cómo estás ?\",\"Bien\",\"necesito de tu ayuda\",\"cúal es tu duda\"]\n",
    "mensaje = \"necesito comprar la mejor computadora gamer\"\n",
    "prompt_template = ChatPromptTemplate.from_messages([\n",
    "    (\"system\",\"Eres un asistente útil y amigable llamado Chatbot pro. Responde de manera clara y concisa.\"),\n",
    "    (\"human\",\"Historial de la conversación: \\n {historial} \\n\\nPregunta actual: {mensaje}\")\n",
    "])\n",
    "\n",
    "chain = prompt_template | llm\n",
    "\n",
    "chain.invoke({\"historial\": historial, \"mensaje\": mensaje})"
   ]
  },
  {
   "cell_type": "code",
   "execution_count": 27,
   "id": "9edb3c11",
   "metadata": {},
   "outputs": [
    {
     "name": "stdout",
     "output_type": "stream",
     "text": [
      "<class 'langchain_core.messages.system.SystemMessage'>: Eres un asistente útil y amigable llamado Chatbot pro. Responde de manera clara y concisa.\n",
      "<class 'langchain_core.messages.human.HumanMessage'>: Historial de la conversación: \n",
      " ['hola cómo estás ?', 'Bien', 'necesito de tu ayuda', 'cuál es tu duda'] \n",
      "\n",
      "Pregunta actual: necesito comprar la mejor computadora gamer\n"
     ]
    }
   ],
   "source": [
    "mensajes = prompt_template.format_messages(\n",
    "    historial=[\"hola cómo estás ?\", \"Bien\", \"necesito de tu ayuda\", \"cuál es tu duda\"],\n",
    "    mensaje=\"necesito comprar la mejor computadora gamer\"\n",
    ")\n",
    "\n",
    "for m in mensajes:\n",
    "    print(f\"{type(m)}: {m.content}\")"
   ]
  },
  {
   "cell_type": "markdown",
   "id": "68405cef",
   "metadata": {},
   "source": [
    "#### Message PlaceHolder"
   ]
  },
  {
   "cell_type": "markdown",
   "id": "332a6cc5",
   "metadata": {},
   "source": [
    "Permite insertar dinámicamente una lista de mensajes en una plantilla (Template) de prompt para un modelo de lenguaje"
   ]
  },
  {
   "cell_type": "code",
   "execution_count": 29,
   "id": "a3f61b99",
   "metadata": {},
   "outputs": [],
   "source": [
    "from langchain_core.messages import AIMessage,HumanMessage\n",
    "from langchain_core.prompts import ChatPromptTemplate, MessagesPlaceholder\n",
    "\n",
    "#crear el prompt\n",
    "chat_prompt = ChatPromptTemplate.from_messages([\n",
    "    (\"system\",\"Eres un aistente útil que mantien el contexto de la conversación\"),\n",
    "    MessagesPlaceholder(variable_name=\"historial\"),\n",
    "    (\"human\",\"{pregunta_usuario}\")\n",
    "])\n",
    "\n",
    "historial_conversacion = [\n",
    "    HumanMessage(content=\"¿Cúal es la capital de Ecuador?\"),\n",
    "    AIMessage(content=\"La capital de Ecuador es Quito\"),\n",
    "    HumanMessage(content=\"¿Cúantos habitantes tiene?\"),\n",
    "    AIMessage(content=\"Quito tiene aproximadamente 1 millon de habitantes\")\n",
    "]\n",
    "\n",
    "mensajes = chat_prompt.format_messages(\n",
    "    historial = historial_conversacion,\n",
    "    pregunta_usuario = \"Puedes identificar cual es el porcentaje de homnres\"\n",
    ")"
   ]
  },
  {
   "cell_type": "code",
   "execution_count": 31,
   "id": "f26100cc",
   "metadata": {},
   "outputs": [
    {
     "name": "stdout",
     "output_type": "stream",
     "text": [
      "<class 'langchain_core.messages.system.SystemMessage'>: Eres un aistente útil que mantien el contexto de la conversación\n",
      "<class 'langchain_core.messages.human.HumanMessage'>: ¿Cúal es la capital de Ecuador?\n",
      "<class 'langchain_core.messages.ai.AIMessage'>: La capital de Ecuador es Quito\n",
      "<class 'langchain_core.messages.human.HumanMessage'>: ¿Cúantos habitantes tiene?\n",
      "<class 'langchain_core.messages.ai.AIMessage'>: Quito tiene aproximadamente 1 millon de habitantes\n",
      "<class 'langchain_core.messages.human.HumanMessage'>: Puedes identificar cual es el porcentaje de homnres\n"
     ]
    }
   ],
   "source": [
    "for m in mensajes:\n",
    "    print(f\"{type(m)}: {m.content}\")"
   ]
  },
  {
   "cell_type": "markdown",
   "id": "44e6360c",
   "metadata": {},
   "source": [
    "### Few-Shot examples"
   ]
  },
  {
   "cell_type": "code",
   "execution_count": 33,
   "id": "c6b103eb",
   "metadata": {},
   "outputs": [
    {
     "name": "stdout",
     "output_type": "stream",
     "text": [
      "Mensaje 1 (SystemMessage):\n",
      "Eres un experto en análisis de sentimientos. Clasifica cada texto como: POSITIVO, NEGATIVO o NEUTRO.\n",
      "----------------------------------------\n",
      "Mensaje 2 (HumanMessage):\n",
      "Texto a analizar: Me encanta este producto, es increíble\n",
      "----------------------------------------\n",
      "Mensaje 3 (AIMessage):\n",
      "POSITIVO\n",
      "----------------------------------------\n",
      "Mensaje 4 (HumanMessage):\n",
      "Texto a analizar: El servicio fue terrible, muy decepcionante\n",
      "----------------------------------------\n",
      "Mensaje 5 (AIMessage):\n",
      "NEGATIVO\n",
      "----------------------------------------\n",
      "Mensaje 6 (HumanMessage):\n",
      "Texto a analizar: El clima está nublado hoy\n",
      "----------------------------------------\n",
      "Mensaje 7 (AIMessage):\n",
      "NEUTRO\n",
      "----------------------------------------\n",
      "Mensaje 8 (HumanMessage):\n",
      "Texto a analizar: ¡Qué día tan maravilloso!\n",
      "----------------------------------------\n"
     ]
    }
   ],
   "source": [
    "# Template para clasificación de sentimientos con few-shot examples\n",
    "chat_prompt = ChatPromptTemplate.from_messages([\n",
    "    (\"system\", \"Eres un experto en análisis de sentimientos. Clasifica cada texto como: POSITIVO, NEGATIVO o NEUTRO.\"),\n",
    "    MessagesPlaceholder(variable_name=\"ejemplos\"),\n",
    "    (\"human\", \"Texto a analizar: {texto_usuario}\")\n",
    "])\n",
    "\n",
    "# Few-shot examples para análisis de sentimientos\n",
    "ejemplos_sentimientos = [\n",
    "    HumanMessage(content=\"Texto a analizar: Me encanta este producto, es increíble\"),\n",
    "    AIMessage(content=\"POSITIVO\"),\n",
    "    HumanMessage(content=\"Texto a analizar: El servicio fue terrible, muy decepcionante\"),\n",
    "    AIMessage(content=\"NEGATIVO\"),\n",
    "    HumanMessage(content=\"Texto a analizar: El clima está nublado hoy\"),\n",
    "    AIMessage(content=\"NEUTRO\")\n",
    "]\n",
    "\n",
    "# Generar el prompt con los ejemplos\n",
    "mensajes = chat_prompt.format_messages(\n",
    "    ejemplos=ejemplos_sentimientos,\n",
    "    texto_usuario=\"¡Qué día tan maravilloso!\"\n",
    ")\n",
    "\n",
    "for i, m in enumerate(mensajes):\n",
    "    print(f\"Mensaje {i+1} ({m.__class__.__name__}):\")\n",
    "    print(m.content)\n",
    "    print(\"-\" * 40)"
   ]
  },
  {
   "cell_type": "code",
   "execution_count": null,
   "id": "2446e265",
   "metadata": {},
   "outputs": [],
   "source": []
  }
 ],
 "metadata": {
  "kernelspec": {
   "display_name": "agents",
   "language": "python",
   "name": "python3"
  },
  "language_info": {
   "codemirror_mode": {
    "name": "ipython",
    "version": 3
   },
   "file_extension": ".py",
   "mimetype": "text/x-python",
   "name": "python",
   "nbconvert_exporter": "python",
   "pygments_lexer": "ipython3",
   "version": "3.11.13"
  }
 },
 "nbformat": 4,
 "nbformat_minor": 5
}
