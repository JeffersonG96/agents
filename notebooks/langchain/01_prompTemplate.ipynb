{
 "cells": [
  {
   "cell_type": "markdown",
   "id": "5b1a569c",
   "metadata": {},
   "source": [
    "Consejos\n",
    "\n",
    "Usa \\n para estructurar instrucciones (roles, pasos, secciones).\n",
    "Declara todas las variables dinámicas en input_variables .\n",
    "Mantén el prompt claro y específico (instrucciones → contexto → salida esperada)."
   ]
  },
  {
   "cell_type": "code",
   "execution_count": 1,
   "id": "77049f40",
   "metadata": {},
   "outputs": [
    {
     "name": "stdout",
     "output_type": "stream",
     "text": [
      "cargado correctamente\n"
     ]
    }
   ],
   "source": [
    "import os\n",
    "from dotenv import load_dotenv\n",
    "\n",
    "load_dotenv()\n",
    "\n",
    "if os.getenv(\"OPENAI_API_KEY\"):\n",
    "    print(\"cargado correctamente\")"
   ]
  },
  {
   "cell_type": "code",
   "execution_count": null,
   "id": "d4c3ad80",
   "metadata": {},
   "outputs": [],
   "source": [
    "from langchain_openai import ChatOpenAI\n",
    "from langchain_core.prompts import PromptTemplate\n",
    "\n",
    "MODEL=\"gpt-4o-mini\"\n",
    "chat = ChatOpenAI(model=MODEL,temperature=0.6)\n",
    "\n",
    "plantilla = PromptTemplate(\n",
    "    input_variables=[\"nombre\"],\n",
    "    template=\"Saluda la usuario con su nombre\\nNombre del usuario: {nombre}\\nAsistente:\"\n",
    ")"
   ]
  },
  {
   "cell_type": "code",
   "execution_count": 8,
   "id": "cc6d10d2",
   "metadata": {},
   "outputs": [
    {
     "data": {
      "text/plain": [
       "['Numero 25', 'Numero 25', 'Numero 25', 'Numero 25']"
      ]
     },
     "execution_count": 8,
     "metadata": {},
     "output_type": "execute_result"
    }
   ],
   "source": [
    "#RunnableLambda\n",
    "from langchain_core.runnables import RunnableLambda\n",
    "\n",
    "step1 = RunnableLambda(lambda x: f\"Numero {x}\")\n",
    "\n",
    "def duplicar_texto(texto):\n",
    "    return [texto] * 4\n",
    "\n",
    "step2= RunnableLambda(duplicar_texto)\n",
    "\n",
    "chain = step1 | step2\n",
    "\n",
    "chat = chain.invoke(25)\n",
    "\n",
    "chat"
   ]
  },
  {
   "cell_type": "code",
   "execution_count": null,
   "id": "3caf0820",
   "metadata": {},
   "outputs": [],
   "source": []
  }
 ],
 "metadata": {
  "kernelspec": {
   "display_name": "agents",
   "language": "python",
   "name": "python3"
  },
  "language_info": {
   "codemirror_mode": {
    "name": "ipython",
    "version": 3
   },
   "file_extension": ".py",
   "mimetype": "text/x-python",
   "name": "python",
   "nbconvert_exporter": "python",
   "pygments_lexer": "ipython3",
   "version": "3.11.13"
  }
 },
 "nbformat": 4,
 "nbformat_minor": 5
}
