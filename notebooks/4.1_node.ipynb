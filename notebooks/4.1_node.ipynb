{
 "cells": [
  {
   "cell_type": "code",
   "execution_count": 1,
   "id": "caa6e4db",
   "metadata": {},
   "outputs": [
    {
     "name": "stdout",
     "output_type": "stream",
     "text": [
      "Cargado correctamente API\n"
     ]
    }
   ],
   "source": [
    "from dotenv import load_dotenv\n",
    "import os\n",
    "\n",
    "load_dotenv()\n",
    "if os.getenv(\"OPENAI_API_KEY\"):\n",
    "    print(\"Cargado correctamente API\")"
   ]
  },
  {
   "cell_type": "code",
   "execution_count": null,
   "id": "fa659c75",
   "metadata": {},
   "outputs": [],
   "source": [
    "from langchain_openai import ChatOpenAI\n",
    "\n",
    "MODEL = \"gpt-4o-mini\"\n",
    "MODEL2=\"gemini-2.5-flash\"\n",
    "llm = ChatOpenAI(model=MODEL,temperature=0.4)"
   ]
  },
  {
   "cell_type": "code",
   "execution_count": 3,
   "id": "90c04885",
   "metadata": {},
   "outputs": [],
   "source": [
    "#tools\n",
    "# tool fecha actual\n",
    "from datetime import datetime, date\n",
    "from langchain_core.tools import tool\n",
    "\n",
    "@tool\n",
    "def current_date_time():\n",
    "    \"\"\"\n",
    "    Tool: cuando el usuario hable de tiempo usa esta herramienta para determinar la fecha actual,\n",
    "    realiza las operaciones necesarias para cumplir con la fecha que pide el usuario\n",
    "    \"\"\"\n",
    "    today = date.today().isoformat()\n",
    "    current_time = datetime.now().strftime(\"%Y-%m-%dT%H:%M:%S-05:00\")\n",
    "    # \"current_date\":today, \n",
    "    return {\n",
    "        \"current_date\":today,\n",
    "        \"current_time\":current_time\n",
    "    }"
   ]
  },
  {
   "cell_type": "code",
   "execution_count": 4,
   "id": "010d8151",
   "metadata": {},
   "outputs": [],
   "source": [
    "tools = [current_date_time]\n",
    "llm_with_tools = llm.bind_tools(tools, parallel_tool_calls=False)"
   ]
  },
  {
   "cell_type": "code",
   "execution_count": 5,
   "id": "063cbec2",
   "metadata": {},
   "outputs": [],
   "source": [
    "from typing import Annotated\n",
    "from typing_extensions import TypedDict\n",
    "from langchain_core.messages import AnyMessage\n",
    "from langgraph.graph.message import add_messages\n",
    "\n",
    "class MyState(TypedDict):\n",
    "    messages: Annotated[list[AnyMessage],add_messages]\n",
    "    intencion: str\n",
    "    summary: str"
   ]
  },
  {
   "cell_type": "code",
   "execution_count": 6,
   "id": "4daca633",
   "metadata": {},
   "outputs": [],
   "source": [
    "from langchain_core.messages import SystemMessage, HumanMessage, RemoveMessage\n",
    "\n",
    "def identificar_intencion(state: MyState) -> dict:\n",
    "    system_promp = \"\"\"Tu tarea es identificar y clasificar la intención del usuario a partir de la conversación proporcionada, usando la siguiente lista de posibles intenciones:\n",
    "\n",
    "    agendar_cita: El usuario desea reservar o programar una nueva cita.\n",
    "    consultar_cita: El usuario quiere obtener información sobre una cita ya existente, como la hora o el lugar.\n",
    "    reagendar_cita: El usuario busca cambiar la fecha o la hora de una cita previamente programada.\n",
    "    otra: cuando el usuario realiza una conversacion fuera del contexto\n",
    "\n",
    "    Debes responder solamente con una intención de esta lista: [agendar_cita, consultar_cita, reagendar_cita, otra]\n",
    "    No agregues mas palabras\n",
    "    \"\"\"\n",
    "    resp = llm.invoke([SystemMessage(content=system_promp)] + state[\"messages\"])\n",
    "    print(resp)\n",
    "    intencion = resp.content.strip().lower()\n",
    "    return {\"messages\": state.get(\"messages\",\"\") + [f\"intencion identificada: {intencion}\"], \"intencion\": intencion, \n",
    "    \"summary\": state.get(\"summary\",\"\") + f\"Intención detectada: {intencion}\"\n",
    "    }"
   ]
  },
  {
   "cell_type": "code",
   "execution_count": 7,
   "id": "35cf3f08",
   "metadata": {},
   "outputs": [],
   "source": [
    "def consultar_cita(state: MyState) -> dict:\n",
    "    system_prompt = \"\"\"Eres una base de datos que tienes agendado citas, cuado el usuario te pida una consulta de cita tu vas a responder con la fecha y la hora de forma simulada.    \n",
    "    \"\"\"\n",
    "\n",
    "    resp = llm.invoke([SystemMessage(content=system_prompt)] + state.get(\"messages\",\"\"))\n",
    "    cita = resp.content\n",
    "    return {\"messages\": state[\"messages\"] + [f\"{cita}\"],\n",
    "            \"intecion\": state[\"intencion\"],\n",
    "            \"summary\": state.get(\"summary\",\"\") + f\"Cita consultada para el dia de {cita}\"\n",
    "            }"
   ]
  },
  {
   "cell_type": "code",
   "execution_count": 8,
   "id": "63a49343",
   "metadata": {},
   "outputs": [],
   "source": [
    "def agendar_cita(state: MyState) -> dict:\n",
    "    system_prompt = \"\"\"Eres un asistsente útil que agendas citas, tu principal rol es simular que creas citas. Utiliza la herramienta (tool) current_date_time para determinar la fecha actual\"\"\"\n",
    "\n",
    "    resp = llm_with_tools.invoke([SystemMessage(content=system_prompt)] + state.get(\"messages\",\"\"))\n",
    "    agenda = resp.content\n",
    "    return {\"messages\": state[\"messages\"] + [resp],\n",
    "            \"intecion\": state[\"intencion\"],\n",
    "            \"summary\": state.get(\"summary\",\"\") + f\" Cita consultada para el dia de {agenda}\"\n",
    "    }"
   ]
  },
  {
   "cell_type": "code",
   "execution_count": 9,
   "id": "52217f32",
   "metadata": {},
   "outputs": [],
   "source": [
    "def otra(state: MyState) -> dict:\n",
    "    system_prompt = \"\"\"Eres un asistsente útil, sigue la conversacion del usuario de forma natural\"\"\"\n",
    "\n",
    "    resp = llm.invoke([SystemMessage(content=system_prompt)] + state.get(\"messages\",\"\"))\n",
    "    agenda = resp.content\n",
    "    return {\"messages\": state[\"messages\"] + [f\"{agenda}\"],\n",
    "            \"intecion\": state[\"intencion\"],\n",
    "            \"summary\": state.get(\"summary\",\"\") + f\"Cita consultada para el dia de {agenda}\"\n",
    "    }"
   ]
  },
  {
   "cell_type": "code",
   "execution_count": 10,
   "id": "036805e6",
   "metadata": {},
   "outputs": [],
   "source": [
    "#funcion determinar ruta\n",
    "def determinar_ruta(state: MyState) -> str:\n",
    "    intencion = state['intencion']\n",
    "    if intencion == \"consultar_cita\":\n",
    "        return \"consultar_cita\"\n",
    "    elif intencion == \"agendar_cita\":\n",
    "        return \"agendar_cita\"\n",
    "    else: \n",
    "        intencion == \"otra\"\n",
    "        return \"otra\"\n"
   ]
  },
  {
   "cell_type": "markdown",
   "id": "4e822112",
   "metadata": {},
   "source": [
    "#### Resumen de la conversacion"
   ]
  },
  {
   "cell_type": "code",
   "execution_count": 11,
   "id": "af4d30b7",
   "metadata": {},
   "outputs": [],
   "source": [
    "# Resumir si la conversacion tiene mas de 4 mensajes \n",
    "def summarize_messages(state: MyState) -> dict:\n",
    "    mensajes = state.get(\"messages\",[])\n",
    "    print(len(mensajes))\n",
    "    if len(mensajes) > 4:\n",
    "        summary = llm.invoke([HumanMessage(content=f\"Haz un resumen breve de la conversación:\\n{mensajes}\")])\n",
    "        print(summary)\n",
    "        return {\"summary\": state.get(\"summary\",\"\") + \"\\n\" + summary.content, \"messages\":mensajes[-2:]}\n",
    "    return {}"
   ]
  },
  {
   "cell_type": "code",
   "execution_count": 12,
   "id": "cbe7038d",
   "metadata": {},
   "outputs": [
    {
     "name": "stdout",
     "output_type": "stream",
     "text": [
      "[9, 0]\n"
     ]
    }
   ],
   "source": [
    "lista = [1,3,5,7,9,0]\n",
    "print(lista[-2:])"
   ]
  },
  {
   "cell_type": "code",
   "execution_count": 13,
   "id": "65185bc4",
   "metadata": {},
   "outputs": [],
   "source": [
    "import sqlite3\n",
    "\n",
    "db_path=\"state_db/exmple.db\"\n",
    "conn=sqlite3.connect(db_path,check_same_thread = False)"
   ]
  },
  {
   "cell_type": "code",
   "execution_count": 14,
   "id": "ce9a99c4",
   "metadata": {},
   "outputs": [],
   "source": [
    "#checkpointer\n",
    "from langgraph.checkpoint.sqlite import SqliteSaver\n",
    "\n",
    "memory = SqliteSaver(conn)"
   ]
  },
  {
   "cell_type": "code",
   "execution_count": 15,
   "id": "bcd4c319",
   "metadata": {},
   "outputs": [],
   "source": [
    "from langgraph.graph import StateGraph, START, END\n",
    "from langgraph.prebuilt import ToolNode, tools_condition\n",
    "\n",
    "#Define Grafo\n",
    "builder = StateGraph(MyState)\n",
    "\n",
    "#Define nodos\n",
    "builder.add_node('identificar_intencion',identificar_intencion)\n",
    "builder.add_node('consultar_cita',consultar_cita)\n",
    "builder.add_node('agendar_cita',agendar_cita)\n",
    "builder.add_node('otra',otra)\n",
    "builder.add_node('resumir',summarize_messages)\n",
    "builder.add_node(\"tools\", ToolNode(tools))\n",
    "\n",
    "#Define la secuencia de los agentes para este caso \n",
    "builder.add_edge(START,'identificar_intencion')\n",
    "builder.add_edge('identificar_intencion','resumir')\n",
    "builder.add_conditional_edges(\"resumir\",determinar_ruta, {\n",
    "        \"consultar_cita\": \"consultar_cita\",\n",
    "        \"agendar_cita\": \"agendar_cita\",\n",
    "        \"otra\": 'otra'\n",
    "    })\n",
    "#condicional para ejecutar herramientas (tools)\n",
    "builder.add_conditional_edges(\n",
    "    \"agendar_cita\",\n",
    "    tools_condition,\n",
    "    {\n",
    "        \"tools\": \"tools\",\n",
    "        END: END \n",
    "    }\n",
    ")\n",
    "builder.add_edge(\"tools\", \"agendar_cita\")\n",
    "builder.add_edge('consultar_cita',END)\n",
    "builder.add_edge('agendar_cita',END)\n",
    "builder.add_edge('otra',END)\n",
    "\n",
    "#compilar\n",
    "graph = builder.compile(checkpointer=memory)"
   ]
  },
  {
   "cell_type": "code",
   "execution_count": 16,
   "id": "5a2bfb05",
   "metadata": {},
   "outputs": [
    {
     "data": {
      "image/png": "[encoded data removed]",
      "text/plain": [
       "<IPython.core.display.Image object>"
      ]
     },
     "metadata": {},
     "output_type": "display_data"
    }
   ],
   "source": [
    "from IPython.display import Image, display\n",
    "\n",
    "display(Image(graph.get_graph(xray=True).draw_mermaid_png()))"
   ]
  },
  {
   "cell_type": "code",
   "execution_count": 17,
   "id": "b4caa53f",
   "metadata": {},
   "outputs": [],
   "source": [
    "config = {\"configurable\": {\"thread_id\":\"9\"}}"
   ]
  },
  {
   "cell_type": "code",
   "execution_count": 24,
   "id": "a49d1b59",
   "metadata": {},
   "outputs": [
    {
     "name": "stdout",
     "output_type": "stream",
     "text": [
      "content='intencion identificada: consultar_cita' additional_kwargs={'refusal': None} response_metadata={'token_usage': {'completion_tokens': 8, 'prompt_tokens': 873, 'total_tokens': 881, 'completion_tokens_details': {'accepted_prediction_tokens': 0, 'audio_tokens': 0, 'reasoning_tokens': 0, 'rejected_prediction_tokens': 0}, 'prompt_tokens_details': {'audio_tokens': 0, 'cached_tokens': 0}}, 'model_name': 'gpt-4o-mini-2024-07-18', 'system_fingerprint': 'fp_560af6e559', 'id': 'chatcmpl-CTRRvOWUBpgdYXC6XShfGFVTzjFOn', 'service_tier': 'default', 'finish_reason': 'stop', 'logprobs': None} id='run--b34bc79a-09a8-4f76-b463-d6b3304dd2d0-0' usage_metadata={'input_tokens': 873, 'output_tokens': 8, 'total_tokens': 881, 'input_token_details': {'audio': 0, 'cache_read': 0}, 'output_token_details': {'audio': 0, 'reasoning': 0}}\n",
      "35\n",
      "content='La conversación gira en torno a la solicitud de un usuario para agendar citas. El usuario repite varias veces su intención de \"agendar una cita\", y el asistente virtual responde pidiendo detalles como la fecha, hora y motivo de la cita. Se establece que el usuario desea agendar una cita para el 23 de octubre de 2025, inicialmente a las 10 a.m., luego a las 11 a.m. y finalmente a la 1 p.m. con el doctor Pallo. También hay un momento en el que el usuario pregunta sobre citas ya agendadas, pero el asistente informa que no hay información disponible sobre citas previas. Al final, se confirma la cita con el doctor Pallo para la 1 p.m. y se pregunta si hay algo más que el usuario desee agregar o confirmar.' additional_kwargs={'refusal': None} response_metadata={'token_usage': {'completion_tokens': 170, 'prompt_tokens': 3275, 'total_tokens': 3445, 'completion_tokens_details': {'accepted_prediction_tokens': 0, 'audio_tokens': 0, 'reasoning_tokens': 0, 'rejected_prediction_tokens': 0}, 'prompt_tokens_details': {'audio_tokens': 0, 'cached_tokens': 0}}, 'model_name': 'gpt-4o-mini-2024-07-18', 'system_fingerprint': 'fp_560af6e559', 'id': 'chatcmpl-CTRRxgKvy6JFFkWAl5wogVcgEwoL9', 'service_tier': 'default', 'finish_reason': 'stop', 'logprobs': None} id='run--1cecfb4b-2a01-44c1-8cc7-60113e1028d3-0' usage_metadata={'input_tokens': 3275, 'output_tokens': 170, 'total_tokens': 3445, 'input_token_details': {'audio': 0, 'cache_read': 0}, 'output_token_details': {'audio': 0, 'reasoning': 0}}\n",
      "================================\u001b[1m Human Message \u001b[0m=================================\n",
      "\n",
      "agendame una cita\n",
      "================================\u001b[1m Human Message \u001b[0m=================================\n",
      "\n",
      "intencion identificada: agendar_cita\n",
      "==================================\u001b[1m Ai Message \u001b[0m==================================\n",
      "Tool Calls:\n",
      "  current_date_time (call_U2o9Jhorcze6QurKWWiXZ6bb)\n",
      " Call ID: call_U2o9Jhorcze6QurKWWiXZ6bb\n",
      "  Args:\n",
      "=================================\u001b[1m Tool Message \u001b[0m=================================\n",
      "Name: current_date_time\n",
      "\n",
      "{\"current_date\": \"2025-10-21\", \"current_time\": \"2025-10-21T07:51:47-05:00\"}\n",
      "==================================\u001b[1m Ai Message \u001b[0m==================================\n",
      "\n",
      "¿Para qué fecha y hora te gustaría agendar la cita? Además, ¿hay algún motivo específico para la cita que debería tener en cuenta?\n",
      "================================\u001b[1m Human Message \u001b[0m=================================\n",
      "\n",
      "agendame una cita\n",
      "================================\u001b[1m Human Message \u001b[0m=================================\n",
      "\n",
      "intencion identificada: agendar_cita\n",
      "================================\u001b[1m Human Message \u001b[0m=================================\n",
      "\n",
      "agendame una cita\n",
      "================================\u001b[1m Human Message \u001b[0m=================================\n",
      "\n",
      "intencion identificada: agendar_cita\n",
      "==================================\u001b[1m Ai Message \u001b[0m==================================\n",
      "\n",
      "Parece que deseas agendar una cita. Por favor, indícame la fecha, la hora y el motivo de la cita para poder ayudarte mejor.\n",
      "================================\u001b[1m Human Message \u001b[0m=================================\n",
      "\n",
      "para pasado mañana\n",
      "================================\u001b[1m Human Message \u001b[0m=================================\n",
      "\n",
      "intencion identificada: agendar_cita\n",
      "==================================\u001b[1m Ai Message \u001b[0m==================================\n",
      "Tool Calls:\n",
      "  current_date_time (call_YWsGeaEu057930JkDRjssFCo)\n",
      " Call ID: call_YWsGeaEu057930JkDRjssFCo\n",
      "  Args:\n",
      "=================================\u001b[1m Tool Message \u001b[0m=================================\n",
      "Name: current_date_time\n",
      "\n",
      "{\"current_date\": \"2025-10-21\", \"current_time\": \"2025-10-21T07:56:50-05:00\"}\n",
      "==================================\u001b[1m Ai Message \u001b[0m==================================\n",
      "\n",
      "Pasado mañana será el 23 de octubre de 2025. ¿A qué hora te gustaría agendar la cita y cuál es el motivo?\n",
      "================================\u001b[1m Human Message \u001b[0m=================================\n",
      "\n",
      "para pasado mañana a las 10 am\n",
      "================================\u001b[1m Human Message \u001b[0m=================================\n",
      "\n",
      "intencion identificada: intencion identificada: agendar_cita\n",
      "================================\u001b[1m Human Message \u001b[0m=================================\n",
      "\n",
      "Perfecto, agendaré la cita para el 23 de octubre de 2025 a las 10 a.m. ¿Cuál es el motivo de la cita?\n",
      "================================\u001b[1m Human Message \u001b[0m=================================\n",
      "\n",
      "para cuando tengo una cita\n",
      "================================\u001b[1m Human Message \u001b[0m=================================\n",
      "\n",
      "intencion identificada: intencion identificada: consultar_cita\n",
      "================================\u001b[1m Human Message \u001b[0m=================================\n",
      "\n",
      "¿Te gustaría saber la fecha y hora de una cita que ya tienes agendada? Si es así, ¿puedes darme más detalles sobre la cita que deseas consultar?\n",
      "================================\u001b[1m Human Message \u001b[0m=================================\n",
      "\n",
      "para cuando tengo agendado una cita\n",
      "================================\u001b[1m Human Message \u001b[0m=================================\n",
      "\n",
      "intencion identificada: consultar_cita\n",
      "================================\u001b[1m Human Message \u001b[0m=================================\n",
      "\n",
      "Actualmente no tengo información sobre citas agendadas. Si deseas, puedo ayudarte a agendar una nueva cita. ¿Te gustaría hacerlo?\n",
      "================================\u001b[1m Human Message \u001b[0m=================================\n",
      "\n",
      "Agendame unca cita para pasado mañana a las 11 de la mañana\n",
      "================================\u001b[1m Human Message \u001b[0m=================================\n",
      "\n",
      "intencion identificada: intencion identificada: agendar_cita\n",
      "================================\u001b[1m Human Message \u001b[0m=================================\n",
      "\n",
      "Agendaré la cita para el 23 de octubre de 2025 a las 11 a.m. ¿Cuál es el motivo de la cita?\n",
      "================================\u001b[1m Human Message \u001b[0m=================================\n",
      "\n",
      "Agendame unca cita para pasado mañana a la 1 pm\n",
      "================================\u001b[1m Human Message \u001b[0m=================================\n",
      "\n",
      "intencion identificada: intencion identificada: agendar_cita\n",
      "================================\u001b[1m Human Message \u001b[0m=================================\n",
      "\n",
      "Agendaré la cita para el 23 de octubre de 2025 a la 1 p.m. ¿Cuál es el motivo de la cita?\n",
      "================================\u001b[1m Human Message \u001b[0m=================================\n",
      "\n",
      "Agendame unca cita para pasado mañana a la 1 pm con el doctor Pallo\n",
      "================================\u001b[1m Human Message \u001b[0m=================================\n",
      "\n",
      "intencion identificada: intencion identificada: agendar_cita\n",
      "================================\u001b[1m Human Message \u001b[0m=================================\n",
      "\n",
      "Agendaré la cita con el doctor Pallo para el 23 de octubre de 2025 a la 1 p.m. ¿Hay algo más que te gustaría agregar o confirmar?\n",
      "================================\u001b[1m Human Message \u001b[0m=================================\n",
      "\n",
      "Para cuando tengo la cita con el doctor pallo\n",
      "================================\u001b[1m Human Message \u001b[0m=================================\n",
      "\n",
      "intencion identificada: intencion identificada: consultar_cita\n",
      "================================\u001b[1m Human Message \u001b[0m=================================\n",
      "\n",
      "Tienes agendada una cita con el doctor Pallo para el 23 de octubre de 2025 a la 1 p.m. Si necesitas más información o deseas hacer algún cambio, házmelo saber.\n"
     ]
    }
   ],
   "source": [
    "content = \"Para cuando tengo la cita con el doctor pallo\"\n",
    "messages = [HumanMessage(content=content)]\n",
    "messages = graph.invoke({\"messages\": messages}, config)\n",
    "\n",
    "for m in messages['messages']:\n",
    "    m.pretty_print()"
   ]
  },
  {
   "cell_type": "code",
   "execution_count": 25,
   "id": "d29878d2",
   "metadata": {},
   "outputs": [
    {
     "data": {
      "text/plain": [
       "{'messages': [HumanMessage(content='agendame una cita', additional_kwargs={}, response_metadata={}, id='f475c012-ff72-4e3e-82de-07ef8facd590'),\n",
       "  HumanMessage(content='intencion identificada: agendar_cita', additional_kwargs={}, response_metadata={}, id='ea2c55db-c839-4b7b-9605-67b1fc1e1b8c'),\n",
       "  AIMessage(content='', additional_kwargs={'tool_calls': [{'id': 'call_U2o9Jhorcze6QurKWWiXZ6bb', 'function': {'arguments': '{}', 'name': 'current_date_time'}, 'type': 'function'}], 'refusal': None}, response_metadata={'token_usage': {'completion_tokens': 11, 'prompt_tokens': 120, 'total_tokens': 131, 'completion_tokens_details': {'accepted_prediction_tokens': 0, 'audio_tokens': 0, 'reasoning_tokens': 0, 'rejected_prediction_tokens': 0}, 'prompt_tokens_details': {'audio_tokens': 0, 'cached_tokens': 0}}, 'model_name': 'gpt-4o-mini-2024-07-18', 'system_fingerprint': 'fp_560af6e559', 'id': 'chatcmpl-CT682Y5SY8VG7Q902pHyfCocdbwwI', 'service_tier': 'default', 'finish_reason': 'tool_calls', 'logprobs': None}, id='run--62661330-3291-47b8-a853-55c51be4cae7-0', tool_calls=[{'name': 'current_date_time', 'args': {}, 'id': 'call_U2o9Jhorcze6QurKWWiXZ6bb', 'type': 'tool_call'}], usage_metadata={'input_tokens': 120, 'output_tokens': 11, 'total_tokens': 131, 'input_token_details': {'audio': 0, 'cache_read': 0}, 'output_token_details': {'audio': 0, 'reasoning': 0}}),\n",
       "  ToolMessage(content='{\"current_date\": \"2025-10-21\", \"current_time\": \"2025-10-21T07:51:47-05:00\"}', name='current_date_time', id='23d6a132-7689-404d-aad4-7c09cf324856', tool_call_id='call_U2o9Jhorcze6QurKWWiXZ6bb'),\n",
       "  AIMessage(content='¿Para qué fecha y hora te gustaría agendar la cita? Además, ¿hay algún motivo específico para la cita que debería tener en cuenta?', additional_kwargs={'refusal': None}, response_metadata={'token_usage': {'completion_tokens': 30, 'prompt_tokens': 174, 'total_tokens': 204, 'completion_tokens_details': {'accepted_prediction_tokens': 0, 'audio_tokens': 0, 'reasoning_tokens': 0, 'rejected_prediction_tokens': 0}, 'prompt_tokens_details': {'audio_tokens': 0, 'cached_tokens': 0}}, 'model_name': 'gpt-4o-mini-2024-07-18', 'system_fingerprint': 'fp_560af6e559', 'id': 'chatcmpl-CT683359Fp969iFPBV69VwbGodXJZ', 'service_tier': 'default', 'finish_reason': 'stop', 'logprobs': None}, id='run--001fef47-a670-48f9-873a-90916c240d82-0', usage_metadata={'input_tokens': 174, 'output_tokens': 30, 'total_tokens': 204, 'input_token_details': {'audio': 0, 'cache_read': 0}, 'output_token_details': {'audio': 0, 'reasoning': 0}}),\n",
       "  HumanMessage(content='agendame una cita', additional_kwargs={}, response_metadata={}, id='92e27335-6eed-4ab9-99ea-aae8d139eedc'),\n",
       "  HumanMessage(content='intencion identificada: agendar_cita', additional_kwargs={}, response_metadata={}, id='a6d1967a-9254-4556-846e-83c53c16d4c4'),\n",
       "  HumanMessage(content='agendame una cita', additional_kwargs={}, response_metadata={}, id='95293a76-6606-4246-b496-3e7e9e268f8e'),\n",
       "  HumanMessage(content='intencion identificada: agendar_cita', additional_kwargs={}, response_metadata={}, id='b5c854ac-864c-470e-81d2-a96ec0bd76d1'),\n",
       "  AIMessage(content='Parece que deseas agendar una cita. Por favor, indícame la fecha, la hora y el motivo de la cita para poder ayudarte mejor.', additional_kwargs={'refusal': None}, response_metadata={'token_usage': {'completion_tokens': 32, 'prompt_tokens': 251, 'total_tokens': 283, 'completion_tokens_details': {'accepted_prediction_tokens': 0, 'audio_tokens': 0, 'reasoning_tokens': 0, 'rejected_prediction_tokens': 0}, 'prompt_tokens_details': {'audio_tokens': 0, 'cached_tokens': 0}}, 'model_name': 'gpt-4o-mini-2024-07-18', 'system_fingerprint': 'fp_560af6e559', 'id': 'chatcmpl-CT6C3pDmMMKzfCAGvqhvtI45UiELQ', 'service_tier': 'default', 'finish_reason': 'stop', 'logprobs': None}, id='run--178d3afd-8696-4a25-862c-d60effd20471-0', usage_metadata={'input_tokens': 251, 'output_tokens': 32, 'total_tokens': 283, 'input_token_details': {'audio': 0, 'cache_read': 0}, 'output_token_details': {'audio': 0, 'reasoning': 0}}),\n",
       "  HumanMessage(content='para pasado mañana', additional_kwargs={}, response_metadata={}, id='ecb1ce73-3e8f-43d2-92e1-6c9af7c6d835'),\n",
       "  HumanMessage(content='intencion identificada: agendar_cita', additional_kwargs={}, response_metadata={}, id='25f9cc6a-6a29-4c7a-b250-1cbccc78d6ad'),\n",
       "  AIMessage(content='', additional_kwargs={'tool_calls': [{'id': 'call_YWsGeaEu057930JkDRjssFCo', 'function': {'arguments': '{}', 'name': 'current_date_time'}, 'type': 'function'}], 'refusal': None}, response_metadata={'token_usage': {'completion_tokens': 11, 'prompt_tokens': 306, 'total_tokens': 317, 'completion_tokens_details': {'accepted_prediction_tokens': 0, 'audio_tokens': 0, 'reasoning_tokens': 0, 'rejected_prediction_tokens': 0}, 'prompt_tokens_details': {'audio_tokens': 0, 'cached_tokens': 0}}, 'model_name': 'gpt-4o-mini-2024-07-18', 'system_fingerprint': 'fp_560af6e559', 'id': 'chatcmpl-CT6CwRBufl1OcwHCa15JD3xnwjYoG', 'service_tier': 'default', 'finish_reason': 'tool_calls', 'logprobs': None}, id='run--e4d2a599-d7a4-4abd-af7c-c09fa7d0a57d-0', tool_calls=[{'name': 'current_date_time', 'args': {}, 'id': 'call_YWsGeaEu057930JkDRjssFCo', 'type': 'tool_call'}], usage_metadata={'input_tokens': 306, 'output_tokens': 11, 'total_tokens': 317, 'input_token_details': {'audio': 0, 'cache_read': 0}, 'output_token_details': {'audio': 0, 'reasoning': 0}}),\n",
       "  ToolMessage(content='{\"current_date\": \"2025-10-21\", \"current_time\": \"2025-10-21T07:56:50-05:00\"}', name='current_date_time', id='a1cdbcf8-d6c6-49f1-8ea7-c84e0a02d739', tool_call_id='call_YWsGeaEu057930JkDRjssFCo'),\n",
       "  AIMessage(content='Pasado mañana será el 23 de octubre de 2025. ¿A qué hora te gustaría agendar la cita y cuál es el motivo?', additional_kwargs={'refusal': None}, response_metadata={'token_usage': {'completion_tokens': 31, 'prompt_tokens': 360, 'total_tokens': 391, 'completion_tokens_details': {'accepted_prediction_tokens': 0, 'audio_tokens': 0, 'reasoning_tokens': 0, 'rejected_prediction_tokens': 0}, 'prompt_tokens_details': {'audio_tokens': 0, 'cached_tokens': 0}}, 'model_name': 'gpt-4o-mini-2024-07-18', 'system_fingerprint': 'fp_560af6e559', 'id': 'chatcmpl-CT6CwhfWMSOeTq9CfMfUlkEzJDL3H', 'service_tier': 'default', 'finish_reason': 'stop', 'logprobs': None}, id='run--4e0ff3eb-fb77-4f64-b175-32074c9ece80-0', usage_metadata={'input_tokens': 360, 'output_tokens': 31, 'total_tokens': 391, 'input_token_details': {'audio': 0, 'cache_read': 0}, 'output_token_details': {'audio': 0, 'reasoning': 0}}),\n",
       "  HumanMessage(content='para pasado mañana a las 10 am', additional_kwargs={}, response_metadata={}, id='b5ceeacc-0bbd-470a-a76f-b87a94cb832a'),\n",
       "  HumanMessage(content='intencion identificada: intencion identificada: agendar_cita', additional_kwargs={}, response_metadata={}, id='a3d2778e-7a3a-4173-a30a-0597921e88aa'),\n",
       "  HumanMessage(content='Perfecto, agendaré la cita para el 23 de octubre de 2025 a las 10 a.m. ¿Cuál es el motivo de la cita?', additional_kwargs={}, response_metadata={}, id='8cdd4d32-8e21-4b8a-acb9-3ebc3703aec2'),\n",
       "  HumanMessage(content='para cuando tengo una cita', additional_kwargs={}, response_metadata={}, id='d5f8feaf-dd4e-4e57-8bdf-83fc9d0e1024'),\n",
       "  HumanMessage(content='intencion identificada: intencion identificada: consultar_cita', additional_kwargs={}, response_metadata={}, id='80f12513-042f-444c-901a-4bd77616f64a'),\n",
       "  HumanMessage(content='¿Te gustaría saber la fecha y hora de una cita que ya tienes agendada? Si es así, ¿puedes darme más detalles sobre la cita que deseas consultar?', additional_kwargs={}, response_metadata={}, id='2a382191-0d82-4afc-a0ac-f7e2750ec084'),\n",
       "  HumanMessage(content='para cuando tengo agendado una cita', additional_kwargs={}, response_metadata={}, id='0946e592-08ed-41da-bd4a-4398335cc33d'),\n",
       "  HumanMessage(content='intencion identificada: consultar_cita', additional_kwargs={}, response_metadata={}, id='9c6b3042-87af-4629-b83e-da228c86c2be'),\n",
       "  HumanMessage(content='Actualmente no tengo información sobre citas agendadas. Si deseas, puedo ayudarte a agendar una nueva cita. ¿Te gustaría hacerlo?', additional_kwargs={}, response_metadata={}, id='64c1768f-6c78-4c91-9050-f059db210d1b'),\n",
       "  HumanMessage(content='Agendame unca cita para pasado mañana a las 11 de la mañana', additional_kwargs={}, response_metadata={}, id='10a4d908-7a58-4457-a8e4-88eaaa88c47f'),\n",
       "  HumanMessage(content='intencion identificada: intencion identificada: agendar_cita', additional_kwargs={}, response_metadata={}, id='7547a160-008a-4359-ad62-4571d06e26c1'),\n",
       "  HumanMessage(content='Agendaré la cita para el 23 de octubre de 2025 a las 11 a.m. ¿Cuál es el motivo de la cita?', additional_kwargs={}, response_metadata={}, id='e6f365d4-9e11-46a9-b3bd-2cfe86768367'),\n",
       "  HumanMessage(content='Agendame unca cita para pasado mañana a la 1 pm', additional_kwargs={}, response_metadata={}, id='8f1de8c3-f930-4d63-9104-a42a52f508c3'),\n",
       "  HumanMessage(content='intencion identificada: intencion identificada: agendar_cita', additional_kwargs={}, response_metadata={}, id='e51c08fd-e4e4-4009-858e-dbd7a469517f'),\n",
       "  HumanMessage(content='Agendaré la cita para el 23 de octubre de 2025 a la 1 p.m. ¿Cuál es el motivo de la cita?', additional_kwargs={}, response_metadata={}, id='342fda43-7ea5-491f-938b-0e35668e583a'),\n",
       "  HumanMessage(content='Agendame unca cita para pasado mañana a la 1 pm con el doctor Pallo', additional_kwargs={}, response_metadata={}, id='4af31f08-4aba-45c8-8373-63cd5ab823c5'),\n",
       "  HumanMessage(content='intencion identificada: intencion identificada: agendar_cita', additional_kwargs={}, response_metadata={}, id='1d0f2a57-5123-422a-9bf0-08f79572b9e7'),\n",
       "  HumanMessage(content='Agendaré la cita con el doctor Pallo para el 23 de octubre de 2025 a la 1 p.m. ¿Hay algo más que te gustaría agregar o confirmar?', additional_kwargs={}, response_metadata={}, id='c3df3cbe-ebcd-4fc6-87c0-a0d1c48f0b5d'),\n",
       "  HumanMessage(content='Para cuando tengo la cita con el doctor pallo', additional_kwargs={}, response_metadata={}, id='c8a890b0-dd76-44fe-be12-4fa9e2d5600a'),\n",
       "  HumanMessage(content='intencion identificada: intencion identificada: consultar_cita', additional_kwargs={}, response_metadata={}, id='5e968bc6-77d0-421b-809f-5c77f1b51453'),\n",
       "  HumanMessage(content='Tienes agendada una cita con el doctor Pallo para el 23 de octubre de 2025 a la 1 p.m. Si necesitas más información o deseas hacer algún cambio, házmelo saber.', additional_kwargs={}, response_metadata={}, id='ab1d55f3-01a5-4053-8cbc-7a8841b83e91')],\n",
       " 'intencion': 'intencion identificada: consultar_cita',\n",
       " 'summary': 'Intención detectada: agendar_cita Cita consultada para el dia de  Cita consultada para el dia de ¿Para qué fecha y hora te gustaría agendar la cita? Además, ¿hay algún motivo específico para la cita que debería tener en cuenta?Intención detectada: agendar_citaIntención detectada: agendar_cita\\nEn la conversación, un usuario solicita agendar una cita. La inteligencia artificial identifica la intención de agendar y pregunta al usuario sobre la fecha, hora y motivo específico para la cita. El usuario repite la solicitud varias veces, y la IA continúa reconociendo la intención de agendar la cita. La IA también obtiene la fecha y hora actual para facilitar la programación. Cita consultada para el dia de Parece que deseas agendar una cita. Por favor, indícame la fecha, la hora y el motivo de la cita para poder ayudarte mejor.Intención detectada: agendar_cita\\nEn la conversación, el usuario solicita agendar una cita. El sistema identifica la intención de agendar una cita y pide detalles sobre la fecha, hora y motivo. El usuario menciona que desea la cita para pasado mañana. El sistema continúa solicitando información adicional para completar el agendamiento. Cita consultada para el dia de  Cita consultada para el dia de Pasado mañana será el 23 de octubre de 2025. ¿A qué hora te gustaría agendar la cita y cuál es el motivo?Intención detectada: intencion identificada: agendar_cita\\nEn la conversación, un usuario solicita agendar una cita. El asistente identifica la intención y pregunta por la fecha, hora y motivo de la cita. El usuario responde que desea la cita para pasado mañana a las 10 am. El asistente confirma la fecha y solicita nuevamente el motivo de la cita para proceder con la programación.Cita consultada para el dia de Perfecto, agendaré la cita para el 23 de octubre de 2025 a las 10 a.m. ¿Cuál es el motivo de la cita?Intención detectada: intencion identificada: consultar_cita\\nEn la conversación, el usuario solicita agendar una cita. El asistente identifica la intención y pregunta por la fecha, hora y motivo de la cita. El usuario indica que desea la cita para pasado mañana a las 10 a.m. El asistente confirma la fecha y hora, y pregunta por el motivo de la cita. Finalmente, el usuario menciona que quiere consultar sobre una cita existente.Cita consultada para el dia de ¿Te gustaría saber la fecha y hora de una cita que ya tienes agendada? Si es así, ¿puedes darme más detalles sobre la cita que deseas consultar?Intención detectada: consultar_cita\\nEn la conversación, el usuario solicita agendar una cita. La inteligencia artificial identifica la intención de agendar y pide detalles sobre la fecha, hora y motivo de la cita. El usuario menciona que desea la cita para pasado mañana a las 10 a.m. La IA confirma la fecha y hora, y pregunta por el motivo de la cita. Posteriormente, el usuario cambia el tema y pregunta sobre una cita ya agendada, lo que lleva a la IA a ofrecer ayuda para consultar detalles de citas existentes.Cita consultada para el dia de Actualmente no tengo información sobre citas agendadas. Si deseas, puedo ayudarte a agendar una nueva cita. ¿Te gustaría hacerlo?Intención detectada: intencion identificada: agendar_cita\\nLa conversación gira en torno a la solicitud de un usuario para agendar citas. El usuario repite varias veces su intención de \"agendar una cita\", y el asistente responde pidiendo detalles como la fecha, hora y motivo de la cita. Se establece que el usuario desea agendar una cita para el 23 de octubre de 2025 a las 10 a.m. Posteriormente, el usuario pregunta sobre citas ya agendadas, pero el asistente informa que no hay información disponible sobre citas previas y ofrece ayuda para agendar una nueva. Finalmente, el usuario solicita agendar otra cita para el mismo día a las 11 de la mañana.Cita consultada para el dia de Agendaré la cita para el 23 de octubre de 2025 a las 11 a.m. ¿Cuál es el motivo de la cita?Intención detectada: intencion identificada: agendar_cita\\nEn la conversación, el usuario solicita agendar una cita en varias ocasiones. El asistente identifica la intención de agendar la cita y pregunta por la fecha, hora y motivo. Después de varias interacciones, el usuario especifica que desea la cita para el 23 de octubre de 2025 a las 10 a.m. y luego a las 11 a.m. El asistente confirma la programación de la cita y pregunta por el motivo. Además, el usuario también pregunta sobre citas ya agendadas, pero el asistente informa que no tiene información sobre citas previas y ofrece ayuda para agendar una nueva.Cita consultada para el dia de Agendaré la cita para el 23 de octubre de 2025 a la 1 p.m. ¿Cuál es el motivo de la cita?Intención detectada: intencion identificada: agendar_cita\\nEn la conversación, el usuario solicita agendar varias citas. La inteligencia artificial identifica la intención de agendar citas y pregunta sobre la fecha, hora y motivo. El usuario menciona varias fechas y horas, incluyendo \"pasado mañana\" y proporciona un motivo específico en una ocasión. La IA confirma las fechas y horas propuestas y solicita más detalles sobre el motivo de la cita. También se menciona que no hay citas agendadas previamente y se ofrece la opción de agendar una nueva cita. La conversación incluye múltiples solicitudes y confirmaciones para agendar citas en diferentes horarios.Cita consultada para el dia de Agendaré la cita con el doctor Pallo para el 23 de octubre de 2025 a la 1 p.m. ¿Hay algo más que te gustaría agregar o confirmar?Intención detectada: intencion identificada: consultar_cita\\nLa conversación gira en torno a la solicitud de un usuario para agendar citas. El usuario repite varias veces su intención de \"agendar una cita\", y el asistente virtual responde pidiendo detalles como la fecha, hora y motivo de la cita. Se establece que el usuario desea agendar una cita para el 23 de octubre de 2025, inicialmente a las 10 a.m., luego a las 11 a.m. y finalmente a la 1 p.m. con el doctor Pallo. También hay un momento en el que el usuario pregunta sobre citas ya agendadas, pero el asistente informa que no hay información disponible sobre citas previas. Al final, se confirma la cita con el doctor Pallo para la 1 p.m. y se pregunta si hay algo más que el usuario desee agregar o confirmar.Cita consultada para el dia de Tienes agendada una cita con el doctor Pallo para el 23 de octubre de 2025 a la 1 p.m. Si necesitas más información o deseas hacer algún cambio, házmelo saber.'}"
      ]
     },
     "execution_count": 25,
     "metadata": {},
     "output_type": "execute_result"
    }
   ],
   "source": [
    "messages\n"
   ]
  },
  {
   "cell_type": "code",
   "execution_count": null,
   "id": "538ee1ff",
   "metadata": {},
   "outputs": [],
   "source": []
  }
 ],
 "metadata": {
  "kernelspec": {
   "display_name": "agents",
   "language": "python",
   "name": "python3"
  },
  "language_info": {
   "codemirror_mode": {
    "name": "ipython",
    "version": 3
   },
   "file_extension": ".py",
   "mimetype": "text/x-python",
   "name": "python",
   "nbconvert_exporter": "python",
   "pygments_lexer": "ipython3",
   "version": "3.11.13"
  }
 },
 "nbformat": 4,
 "nbformat_minor": 5
}
