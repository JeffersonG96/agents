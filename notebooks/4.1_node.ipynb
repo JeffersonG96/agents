{
 "cells": [
  {
   "cell_type": "code",
   "execution_count": 104,
   "id": "caa6e4db",
   "metadata": {},
   "outputs": [
    {
     "name": "stdout",
     "output_type": "stream",
     "text": [
      "Cargado correctamente API\n"
     ]
    }
   ],
   "source": [
    "from dotenv import load_dotenv\n",
    "import os\n",
    "\n",
    "load_dotenv()\n",
    "if os.getenv(\"OPENAI_API_KEY\"):\n",
    "    print(\"Cargado correctamente API\")"
   ]
  },
  {
   "cell_type": "code",
   "execution_count": 105,
   "id": "fa659c75",
   "metadata": {},
   "outputs": [],
   "source": [
    "from langchain_openai import ChatOpenAI\n",
    "\n",
    "MODEL = \"gpt-4o-mini\"\n",
    "llm = ChatOpenAI(model=MODEL,temperature=0.4)"
   ]
  },
  {
   "cell_type": "code",
   "execution_count": 128,
   "id": "90c04885",
   "metadata": {},
   "outputs": [],
   "source": [
    "#tools\n",
    "# tool fecha actual\n",
    "from datetime import datetime, date\n",
    "from langchain_core.tools import tool\n",
    "\n",
    "@tool\n",
    "def current_date_time():\n",
    "    \"\"\"\n",
    "    Tool: cuando el usuario hable de tiempo usa esta herramienta para determinar la fecha actual,\n",
    "    realiza las operaciones necesarias para cumplir con la fecha que pide el usuario\n",
    "    \"\"\"\n",
    "    today = date.today().isoformat()\n",
    "    current_time = datetime.now().strftime(\"%Y-%m-%dT%H:%M:%S-05:00\")\n",
    "    # \"current_date\":today, \n",
    "    return {\n",
    "        \"current_date\":today,\n",
    "        \"current_time\":current_time\n",
    "    }"
   ]
  },
  {
   "cell_type": "code",
   "execution_count": 127,
   "id": "010d8151",
   "metadata": {},
   "outputs": [],
   "source": [
    "tools = [current_date_time]\n",
    "llm_with_tools = llm.bind_tools(tools, parallel_tool_calls=False)"
   ]
  },
  {
   "cell_type": "code",
   "execution_count": 109,
   "id": "063cbec2",
   "metadata": {},
   "outputs": [],
   "source": [
    "from typing import Annotated\n",
    "from typing_extensions import TypedDict\n",
    "from langchain_core.messages import AnyMessage\n",
    "from langgraph.graph.message import add_messages\n",
    "\n",
    "class MyState(TypedDict):\n",
    "    messages: Annotated[list[AnyMessage],add_messages]\n",
    "    intencion: str\n",
    "    summary: str"
   ]
  },
  {
   "cell_type": "code",
   "execution_count": 129,
   "id": "4daca633",
   "metadata": {},
   "outputs": [],
   "source": [
    "from langchain_core.messages import SystemMessage, HumanMessage, RemoveMessage\n",
    "\n",
    "def identificar_intencion(state: MyState) -> dict:\n",
    "    system_promp = \"\"\"Tu tarea es identificar y clasificar la intención del usuario a partir de la conversación proporcionada, usando la siguiente lista de posibles intenciones:\n",
    "\n",
    "    agendar_cita: El usuario desea reservar o programar una nueva cita.\n",
    "    consultar_cita: El usuario quiere obtener información sobre una cita ya existente, como la hora o el lugar.\n",
    "    reagendar_cita: El usuario busca cambiar la fecha o la hora de una cita previamente programada.\n",
    "    otra: cuando el usuario realiza una conversacion fuera del contexto\n",
    "\n",
    "    Debes responder solamente con una intención de esta lista: [agendar_cita, consultar_cita, reagendar_cita, otra]\n",
    "    No agregues mas palabras\n",
    "    \"\"\"\n",
    "    resp = llm.invoke([SystemMessage(content=system_promp)] + state[\"messages\"])\n",
    "    print(resp)\n",
    "    intencion = resp.content.strip().lower()\n",
    "    return {\"messages\": state.get(\"messages\",\"\") + [f\"intencion identificada: {intencion}\"], \"intencion\": intencion, \"summary\": state.get(\"summary\",\"\") + f\"Intención detectada: {intencion}\"}"
   ]
  },
  {
   "cell_type": "code",
   "execution_count": 111,
   "id": "35cf3f08",
   "metadata": {},
   "outputs": [],
   "source": [
    "def consultar_cita(state: MyState) -> dict:\n",
    "    system_prompt = \"\"\"Eres una base de datos que tienes agendado citas, cuado el usuario te pida una consulta de cita tu vas a responder con la fecha y la hora de forma simulada.    \n",
    "    \"\"\"\n",
    "\n",
    "    resp = llm.invoke([SystemMessage(content=system_prompt)] + state.get(\"messages\",\"\"))\n",
    "    cita = resp.content\n",
    "    return {\"messages\": state[\"messages\"] + [f\"{cita}\"],\n",
    "            \"intecion\": state[\"intencion\"],\n",
    "            \"summary\": state.get(\"summary\",\"\") + f\"Cita consultada para el dia de {cita}\"\n",
    "            }"
   ]
  },
  {
   "cell_type": "code",
   "execution_count": 132,
   "id": "63a49343",
   "metadata": {},
   "outputs": [],
   "source": [
    "def agendar_cita(state: MyState) -> dict:\n",
    "    system_prompt = \"\"\"Eres un asistsente útil que agendas citas, tu principal rol es simular que creas citas. Utiliza la herramienta (tool) current_date_time para determinar la fecha actual\"\"\"\n",
    "\n",
    "    resp = llm_with_tools.invoke([SystemMessage(content=system_prompt)] + state.get(\"messages\",\"\"))\n",
    "    agenda = resp.content\n",
    "    print(resp)\n",
    "    return {\"messages\": state[\"messages\"] + [resp],\n",
    "            \"intecion\": state[\"intencion\"],\n",
    "            \"summary\": state.get(\"summary\",\"\") + f\"Cita consultada para el dia de {agenda}\"\n",
    "    }"
   ]
  },
  {
   "cell_type": "code",
   "execution_count": 122,
   "id": "52217f32",
   "metadata": {},
   "outputs": [],
   "source": [
    "def otra(state: MyState) -> dict:\n",
    "    system_prompt = \"\"\"Eres un asistsente útil, sigue la conversacion del usuario de forma natural\"\"\"\n",
    "\n",
    "    resp = llm.invoke([SystemMessage(content=system_prompt)] + state.get(\"messages\",\"\"))\n",
    "    agenda = resp.content\n",
    "    return {\"messages\": state[\"messages\"] + [f\"{agenda}\"],\n",
    "            \"intecion\": state[\"intencion\"],\n",
    "            \"summary\": state.get(\"summary\",\"\") + f\"Cita consultada para el dia de {agenda}\"\n",
    "    }"
   ]
  },
  {
   "cell_type": "code",
   "execution_count": 114,
   "id": "036805e6",
   "metadata": {},
   "outputs": [],
   "source": [
    "#funcion determinar ruta\n",
    "def determinar_ruta(state: MyState) -> str:\n",
    "    intencion = state['intencion']\n",
    "    if intencion == \"consultar_cita\":\n",
    "        return \"consultar_cita\"\n",
    "    elif intencion == \"agendar_cita\":\n",
    "        return \"agendar_cita\"\n",
    "    else: \n",
    "        intencion == \"otra\"\n",
    "        return \"otra\"\n"
   ]
  },
  {
   "cell_type": "code",
   "execution_count": 115,
   "id": "65185bc4",
   "metadata": {},
   "outputs": [],
   "source": [
    "import sqlite3\n",
    "\n",
    "db_path=\"state_db/exmple.db\"\n",
    "conn=sqlite3.connect(db_path,check_same_thread = False)"
   ]
  },
  {
   "cell_type": "code",
   "execution_count": 116,
   "id": "ce9a99c4",
   "metadata": {},
   "outputs": [],
   "source": [
    "#checkpointer\n",
    "from langgraph.checkpoint.sqlite import SqliteSaver\n",
    "\n",
    "memory = SqliteSaver(conn)"
   ]
  },
  {
   "cell_type": "code",
   "execution_count": 140,
   "id": "bcd4c319",
   "metadata": {},
   "outputs": [],
   "source": [
    "from langgraph.graph import StateGraph, START, END\n",
    "from langgraph.prebuilt import ToolNode, tools_condition\n",
    "\n",
    "#Define Grafo\n",
    "builder = StateGraph(MyState)\n",
    "\n",
    "#Define nodos\n",
    "builder.add_node('identificar_intencion',identificar_intencion)\n",
    "builder.add_node('consultar_cita',consultar_cita)\n",
    "builder.add_node('agendar_cita',agendar_cita)\n",
    "builder.add_node('otra',otra)\n",
    "builder.add_node(\"tools\", ToolNode(tools))\n",
    "\n",
    "#Define la secuencia de los agentes para este caso \n",
    "builder.add_edge(START,'identificar_intencion')\n",
    "builder.add_conditional_edges(\"identificar_intencion\",determinar_ruta, {\n",
    "        \"consultar_cita\": \"consultar_cita\",\n",
    "        \"agendar_cita\": \"agendar_cita\",\n",
    "        \"otra\": 'otra'\n",
    "    })\n",
    "#condicional para ejecutar herramientas (tools)\n",
    "builder.add_conditional_edges(\n",
    "    \"agendar_cita\",\n",
    "    tools_condition,\n",
    "    {\n",
    "        \"tools\": \"tools\",\n",
    "        END: END \n",
    "    }\n",
    ")\n",
    "builder.add_edge(\"tools\", \"agendar_cita\")\n",
    "builder.add_edge('consultar_cita',END)\n",
    "builder.add_edge('agendar_cita',END)\n",
    "builder.add_edge('otra',END)\n",
    "\n",
    "#compilar\n",
    "graph = builder.compile(checkpointer=memory)"
   ]
  },
  {
   "cell_type": "code",
   "execution_count": 141,
   "id": "5a2bfb05",
   "metadata": {},
   "outputs": [
    {
     "data": {
      "image/png": "[encoded data removed]",
      "text/plain": [
       "<IPython.core.display.Image object>"
      ]
     },
     "metadata": {},
     "output_type": "display_data"
    }
   ],
   "source": [
    "from IPython.display import Image, display\n",
    "\n",
    "display(Image(graph.get_graph(xray=True).draw_mermaid_png()))"
   ]
  },
  {
   "cell_type": "code",
   "execution_count": 142,
   "id": "b4caa53f",
   "metadata": {},
   "outputs": [],
   "source": [
    "config = {\"configurable\": {\"thread_id\":\"5\"}}"
   ]
  },
  {
   "cell_type": "code",
   "execution_count": 143,
   "id": "a49d1b59",
   "metadata": {},
   "outputs": [
    {
     "name": "stdout",
     "output_type": "stream",
     "text": [
      "content='agendar_cita' additional_kwargs={'refusal': None} response_metadata={'token_usage': {'completion_tokens': 4, 'prompt_tokens': 350, 'total_tokens': 354, 'completion_tokens_details': {'accepted_prediction_tokens': 0, 'audio_tokens': 0, 'reasoning_tokens': 0, 'rejected_prediction_tokens': 0}, 'prompt_tokens_details': {'audio_tokens': 0, 'cached_tokens': 0}}, 'model_name': 'gpt-4o-mini-2024-07-18', 'system_fingerprint': 'fp_560af6e559', 'id': 'chatcmpl-CSVMROyqQXRrXN5EARL5DjgroyFKN', 'service_tier': 'default', 'finish_reason': 'stop', 'logprobs': None} id='run--e1fab500-f1bf-4874-8e28-8df31d621648-0' usage_metadata={'input_tokens': 350, 'output_tokens': 4, 'total_tokens': 354, 'input_token_details': {'audio': 0, 'cache_read': 0}, 'output_token_details': {'audio': 0, 'reasoning': 0}}\n",
      "content='' additional_kwargs={'tool_calls': [{'id': 'call_tzPSDK8WofJQRsHmD3I5MOsj', 'function': {'arguments': '{}', 'name': 'current_date_time'}, 'type': 'function'}], 'refusal': None} response_metadata={'token_usage': {'completion_tokens': 11, 'prompt_tokens': 313, 'total_tokens': 324, 'completion_tokens_details': {'accepted_prediction_tokens': 0, 'audio_tokens': 0, 'reasoning_tokens': 0, 'rejected_prediction_tokens': 0}, 'prompt_tokens_details': {'audio_tokens': 0, 'cached_tokens': 0}}, 'model_name': 'gpt-4o-mini-2024-07-18', 'system_fingerprint': 'fp_560af6e559', 'id': 'chatcmpl-CSVMSDYt7OAMzkZp5tiVoLxe4fG2o', 'service_tier': 'default', 'finish_reason': 'tool_calls', 'logprobs': None} id='run--79511331-5442-4c27-a882-c99c602b5a96-0' tool_calls=[{'name': 'current_date_time', 'args': {}, 'id': 'call_tzPSDK8WofJQRsHmD3I5MOsj', 'type': 'tool_call'}] usage_metadata={'input_tokens': 313, 'output_tokens': 11, 'total_tokens': 324, 'input_token_details': {'audio': 0, 'cache_read': 0}, 'output_token_details': {'audio': 0, 'reasoning': 0}}\n",
      "content='He agendado tu cita médica para mañana, 20 de octubre de 2025. Si necesitas más detalles o deseas cambiar algo, házmelo saber.' additional_kwargs={'refusal': None} response_metadata={'token_usage': {'completion_tokens': 34, 'prompt_tokens': 367, 'total_tokens': 401, 'completion_tokens_details': {'accepted_prediction_tokens': 0, 'audio_tokens': 0, 'reasoning_tokens': 0, 'rejected_prediction_tokens': 0}, 'prompt_tokens_details': {'audio_tokens': 0, 'cached_tokens': 0}}, 'model_name': 'gpt-4o-mini-2024-07-18', 'system_fingerprint': 'fp_560af6e559', 'id': 'chatcmpl-CSVMTAnbXsnb1kgsEKCSFKRkp7Z6p', 'service_tier': 'default', 'finish_reason': 'stop', 'logprobs': None} id='run--03dc35b9-a6d5-49de-b8f6-bbed8ca41447-0' usage_metadata={'input_tokens': 367, 'output_tokens': 34, 'total_tokens': 401, 'input_token_details': {'audio': 0, 'cache_read': 0}, 'output_token_details': {'audio': 0, 'reasoning': 0}}\n",
      "================================\u001b[1m Human Message \u001b[0m=================================\n",
      "\n",
      "puedes agendarme una cita medica para mañana\n",
      "================================\u001b[1m Human Message \u001b[0m=================================\n",
      "\n",
      "intencion identificada: agendar_cita\n",
      "================================\u001b[1m Human Message \u001b[0m=================================\n",
      "\n",
      "\n",
      "================================\u001b[1m Human Message \u001b[0m=================================\n",
      "\n",
      "puedes agendarme una cita médica para mañana\n",
      "================================\u001b[1m Human Message \u001b[0m=================================\n",
      "\n",
      "intencion identificada: agendar_cita\n",
      "================================\u001b[1m Human Message \u001b[0m=================================\n",
      "\n",
      "\n",
      "================================\u001b[1m Human Message \u001b[0m=================================\n",
      "\n",
      "puedes agendarme una cita medica para mañana\n",
      "================================\u001b[1m Human Message \u001b[0m=================================\n",
      "\n",
      "intencion identificada: agendar_cita\n",
      "================================\u001b[1m Human Message \u001b[0m=================================\n",
      "\n",
      "puedes agendarme una cita medica para mañana\n",
      "================================\u001b[1m Human Message \u001b[0m=================================\n",
      "\n",
      "intencion identificada: agendar_cita\n",
      "================================\u001b[1m Human Message \u001b[0m=================================\n",
      "\n",
      "\n",
      "================================\u001b[1m Human Message \u001b[0m=================================\n",
      "\n",
      "puedes agendarme una cita medica para mañana\n",
      "================================\u001b[1m Human Message \u001b[0m=================================\n",
      "\n",
      "intencion identificada: agendar_cita\n",
      "================================\u001b[1m Human Message \u001b[0m=================================\n",
      "\n",
      "\n",
      "================================\u001b[1m Human Message \u001b[0m=================================\n",
      "\n",
      "puedes agendarme una cita medica para mañana\n",
      "================================\u001b[1m Human Message \u001b[0m=================================\n",
      "\n",
      "intencion identificada: agendar_cita\n",
      "================================\u001b[1m Human Message \u001b[0m=================================\n",
      "\n",
      "\n",
      "================================\u001b[1m Human Message \u001b[0m=================================\n",
      "\n",
      "puedes agendarme una cita medica para mañana\n",
      "================================\u001b[1m Human Message \u001b[0m=================================\n",
      "\n",
      "intencion identificada: agendar_cita\n",
      "==================================\u001b[1m Ai Message \u001b[0m==================================\n",
      "Tool Calls:\n",
      "  current_date_time (call_tzPSDK8WofJQRsHmD3I5MOsj)\n",
      " Call ID: call_tzPSDK8WofJQRsHmD3I5MOsj\n",
      "  Args:\n",
      "=================================\u001b[1m Tool Message \u001b[0m=================================\n",
      "Name: current_date_time\n",
      "\n",
      "{\"current_date\": \"2025-10-19\", \"current_time\": \"2025-10-19T16:36:13-05:00\"}\n",
      "==================================\u001b[1m Ai Message \u001b[0m==================================\n",
      "\n",
      "He agendado tu cita médica para mañana, 20 de octubre de 2025. Si necesitas más detalles o deseas cambiar algo, házmelo saber.\n"
     ]
    }
   ],
   "source": [
    "content = \"puedes agendarme una cita medica para mañana\"\n",
    "messages = [HumanMessage(content=content)]\n",
    "messages = graph.invoke({\"messages\": messages}, config)\n",
    "\n",
    "for m in messages['messages']:\n",
    "    m.pretty_print()"
   ]
  },
  {
   "cell_type": "code",
   "execution_count": 121,
   "id": "829e2e6e",
   "metadata": {},
   "outputs": [
    {
     "ename": "ValueError",
     "evalue": "No checkpointer set",
     "output_type": "error",
     "traceback": [
      "\u001b[31m---------------------------------------------------------------------------\u001b[39m",
      "\u001b[31mValueError\u001b[39m                                Traceback (most recent call last)",
      "\u001b[36mCell\u001b[39m\u001b[36m \u001b[39m\u001b[32mIn[121]\u001b[39m\u001b[32m, line 2\u001b[39m\n\u001b[32m      1\u001b[39m config = {\u001b[33m\"\u001b[39m\u001b[33mconfigurable\u001b[39m\u001b[33m\"\u001b[39m: {\u001b[33m\"\u001b[39m\u001b[33mthread_id\u001b[39m\u001b[33m\"\u001b[39m: \u001b[33m\"\u001b[39m\u001b[33m2\u001b[39m\u001b[33m\"\u001b[39m}}\n\u001b[32m----> \u001b[39m\u001b[32m2\u001b[39m graph_state = \u001b[43mgraph\u001b[49m\u001b[43m.\u001b[49m\u001b[43mget_state\u001b[49m\u001b[43m(\u001b[49m\u001b[43mconfig\u001b[49m\u001b[43m)\u001b[49m\n\u001b[32m      3\u001b[39m graph_state\n",
      "\u001b[36mFile \u001b[39m\u001b[32mc:\\Users\\DELL\\anaconda3\\envs\\agents\\Lib\\site-packages\\langgraph\\pregel\\main.py:1223\u001b[39m, in \u001b[36mPregel.get_state\u001b[39m\u001b[34m(self, config, subgraphs)\u001b[39m\n\u001b[32m   1219\u001b[39m checkpointer: BaseCheckpointSaver | \u001b[38;5;28;01mNone\u001b[39;00m = ensure_config(config)[CONF].get(\n\u001b[32m   1220\u001b[39m     CONFIG_KEY_CHECKPOINTER, \u001b[38;5;28mself\u001b[39m.checkpointer\n\u001b[32m   1221\u001b[39m )\n\u001b[32m   1222\u001b[39m \u001b[38;5;28;01mif\u001b[39;00m \u001b[38;5;129;01mnot\u001b[39;00m checkpointer:\n\u001b[32m-> \u001b[39m\u001b[32m1223\u001b[39m     \u001b[38;5;28;01mraise\u001b[39;00m \u001b[38;5;167;01mValueError\u001b[39;00m(\u001b[33m\"\u001b[39m\u001b[33mNo checkpointer set\u001b[39m\u001b[33m\"\u001b[39m)\n\u001b[32m   1225\u001b[39m \u001b[38;5;28;01mif\u001b[39;00m (\n\u001b[32m   1226\u001b[39m     checkpoint_ns := config[CONF].get(CONFIG_KEY_CHECKPOINT_NS, \u001b[33m\"\u001b[39m\u001b[33m\"\u001b[39m)\n\u001b[32m   1227\u001b[39m ) \u001b[38;5;129;01mand\u001b[39;00m CONFIG_KEY_CHECKPOINTER \u001b[38;5;129;01mnot\u001b[39;00m \u001b[38;5;129;01min\u001b[39;00m config[CONF]:\n\u001b[32m   1228\u001b[39m     \u001b[38;5;66;03m# remove task_ids from checkpoint_ns\u001b[39;00m\n\u001b[32m   1229\u001b[39m     recast = recast_checkpoint_ns(checkpoint_ns)\n",
      "\u001b[31mValueError\u001b[39m: No checkpointer set"
     ]
    }
   ],
   "source": [
    "config = {\"configurable\": {\"thread_id\": \"2\"}}\n",
    "graph_state = graph.get_state(config)\n",
    "graph_state"
   ]
  },
  {
   "cell_type": "code",
   "execution_count": null,
   "id": "d29878d2",
   "metadata": {},
   "outputs": [
    {
     "data": {
      "text/plain": [
       "{'messages': [HumanMessage(content='puedes agendarme una cita medica para mañana', additional_kwargs={}, response_metadata={}, id='2e064b38-3f07-4262-b8c1-4f25f4d93cb0'),\n",
       "  HumanMessage(content='intencion identificada: agendar_cita', additional_kwargs={}, response_metadata={}, id='a732557d-aaaa-4314-9c0f-75f81e5e4685'),\n",
       "  HumanMessage(content='', additional_kwargs={}, response_metadata={}, id='5b1f5d9b-c405-4144-a462-ecfa43b7eb8c'),\n",
       "  HumanMessage(content='puedes agendarme una cita médica para mañana', additional_kwargs={}, response_metadata={}, id='8691dcab-afc1-49ea-b131-af39dd79d892'),\n",
       "  HumanMessage(content='intencion identificada: agendar_cita', additional_kwargs={}, response_metadata={}, id='4517204d-2740-44bc-a80e-1f15bfa5804b'),\n",
       "  HumanMessage(content='', additional_kwargs={}, response_metadata={}, id='11c86ff9-1318-4d89-acc2-6957835541bc'),\n",
       "  HumanMessage(content='puedes agendarme una cita medica para mañana', additional_kwargs={}, response_metadata={}, id='677b777f-e7a9-47d5-ab7c-813cf828ed64'),\n",
       "  HumanMessage(content='intencion identificada: agendar_cita', additional_kwargs={}, response_metadata={}, id='0fe2761f-124f-499b-a7ab-7ba52e0fc6c1'),\n",
       "  HumanMessage(content='puedes agendarme una cita medica para mañana', additional_kwargs={}, response_metadata={}, id='30364f81-c675-47e1-bf52-1d4d97a94ef8'),\n",
       "  HumanMessage(content='intencion identificada: agendar_cita', additional_kwargs={}, response_metadata={}, id='f84d0ddf-7654-44f1-a1ae-74d23d6f747a'),\n",
       "  HumanMessage(content='', additional_kwargs={}, response_metadata={}, id='02681dc1-a996-4730-a47c-0ee821797889'),\n",
       "  HumanMessage(content='puedes agendarme una cita medica para mañana', additional_kwargs={}, response_metadata={}, id='5d14c9f9-15f2-48e4-9a99-47fd2438fe66'),\n",
       "  HumanMessage(content='intencion identificada: agendar_cita', additional_kwargs={}, response_metadata={}, id='478a5e66-8fa2-4e39-b6a7-3a4de5ba18c8'),\n",
       "  HumanMessage(content='', additional_kwargs={}, response_metadata={}, id='aa76823d-4710-4159-be4a-32277153dd26'),\n",
       "  HumanMessage(content='puedes agendarme una cita medica para mañana', additional_kwargs={}, response_metadata={}, id='7973635e-e924-42bb-87d5-1c5979cdcff6'),\n",
       "  HumanMessage(content='intencion identificada: agendar_cita', additional_kwargs={}, response_metadata={}, id='acddefff-3a0e-4257-b6b3-4148f7fa8e88'),\n",
       "  HumanMessage(content='', additional_kwargs={}, response_metadata={}, id='2626c4f0-af82-4dc9-bc60-a0c3e439dcd9')],\n",
       " 'intencion': 'agendar_cita',\n",
       " 'summary': 'Intención detectada: agendar_citaCita consultada para el dia de Intención detectada: agendar_citaIntención detectada: agendar_citaCita consultada para el dia de Intención detectada: agendar_citaCita consultada para el dia de Intención detectada: agendar_citaCita consultada para el dia de '}"
      ]
     },
     "execution_count": 83,
     "metadata": {},
     "output_type": "execute_result"
    }
   ],
   "source": [
    "messages\n"
   ]
  },
  {
   "cell_type": "code",
   "execution_count": null,
   "id": "3becc29a",
   "metadata": {},
   "outputs": [
    {
     "ename": "AttributeError",
     "evalue": "'CompiledStateGraph' object has no attribute 'reset'",
     "output_type": "error",
     "traceback": [
      "\u001b[31m---------------------------------------------------------------------------\u001b[39m",
      "\u001b[31mAttributeError\u001b[39m                            Traceback (most recent call last)",
      "\u001b[36mCell\u001b[39m\u001b[36m \u001b[39m\u001b[32mIn[69]\u001b[39m\u001b[32m, line 1\u001b[39m\n\u001b[32m----> \u001b[39m\u001b[32m1\u001b[39m \u001b[43mgraph\u001b[49m\u001b[43m.\u001b[49m\u001b[43mreset\u001b[49m()\n\u001b[32m      3\u001b[39m state = {\n\u001b[32m      4\u001b[39m     \u001b[33m\"\u001b[39m\u001b[33mmessages\u001b[39m\u001b[33m\"\u001b[39m: [HumanMessage(content=\u001b[33m\"\u001b[39m\u001b[33mpuedes agendarme una cita médica para mañana\u001b[39m\u001b[33m\"\u001b[39m)],\n\u001b[32m      5\u001b[39m     \u001b[33m\"\u001b[39m\u001b[33mintencion\u001b[39m\u001b[33m\"\u001b[39m: \u001b[33m\"\u001b[39m\u001b[33m\"\u001b[39m,\n\u001b[32m      6\u001b[39m     \u001b[33m\"\u001b[39m\u001b[33msummary\u001b[39m\u001b[33m\"\u001b[39m: \u001b[33m\"\u001b[39m\u001b[33m\"\u001b[39m\n\u001b[32m      7\u001b[39m }\n\u001b[32m      9\u001b[39m result = graph.invoke(state,config)\n",
      "\u001b[31mAttributeError\u001b[39m: 'CompiledStateGraph' object has no attribute 'reset'"
     ]
    }
   ],
   "source": [
    "graph.reset()\n",
    "\n",
    "state = {\n",
    "    \"messages\": [HumanMessage(content=\"puedes agendarme una cita médica para mañana\")],\n",
    "    \"intencion\": \"\",\n",
    "    \"summary\": \"\"\n",
    "}\n",
    "\n",
    "result = graph.invoke(state,config)\n",
    "\n",
    "for m in result[\"messages\"]:\n",
    "    print(f\"{m.type.upper()}: {m.content}\\n\")"
   ]
  },
  {
   "cell_type": "code",
   "execution_count": null,
   "id": "538ee1ff",
   "metadata": {},
   "outputs": [],
   "source": []
  }
 ],
 "metadata": {
  "kernelspec": {
   "display_name": "agents",
   "language": "python",
   "name": "python3"
  },
  "language_info": {
   "codemirror_mode": {
    "name": "ipython",
    "version": 3
   },
   "file_extension": ".py",
   "mimetype": "text/x-python",
   "name": "python",
   "nbconvert_exporter": "python",
   "pygments_lexer": "ipython3",
   "version": "3.11.13"
  }
 },
 "nbformat": 4,
 "nbformat_minor": 5
}
