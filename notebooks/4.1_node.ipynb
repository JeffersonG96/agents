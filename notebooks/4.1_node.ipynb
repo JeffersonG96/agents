{
 "cells": [
  {
   "cell_type": "code",
   "execution_count": 1,
   "id": "caa6e4db",
   "metadata": {},
   "outputs": [
    {
     "name": "stdout",
     "output_type": "stream",
     "text": [
      "Cargado correctamente API\n"
     ]
    }
   ],
   "source": [
    "from dotenv import load_dotenv\n",
    "import os\n",
    "\n",
    "load_dotenv()\n",
    "if os.getenv(\"OPENAI_API_KEY\"):\n",
    "    print(\"Cargado correctamente API\")"
   ]
  },
  {
   "cell_type": "code",
   "execution_count": 2,
   "id": "fa659c75",
   "metadata": {},
   "outputs": [],
   "source": [
    "from langchain_openai import ChatOpenAI\n",
    "\n",
    "MODEL = \"gpt-4o-mini\"\n",
    "llm = ChatOpenAI(model=MODEL,temperature=0.4)"
   ]
  },
  {
   "cell_type": "code",
   "execution_count": 114,
   "id": "90c04885",
   "metadata": {},
   "outputs": [],
   "source": [
    "#tools\n",
    "# tool fecha actual\n",
    "from datetime import datetime, date\n",
    "\n",
    "def current_date_time():\n",
    "    \"\"\"\n",
    "    Tool: cuando el usuario hable de tiempo usa esta herramienta para determinar la fecha actual,\n",
    "    realiza las operaciones necesarias para cumplir con la fecha que pide el usuario\n",
    "    \"\"\"\n",
    "    today = date.today().isoformat()\n",
    "    current_time = datetime.now().isoformat()\n",
    "    # \"current_date\":today, \n",
    "    return {\"current_time\": f\"Esta es la fecha actual: {current_time} esta en formato ISO\" }"
   ]
  },
  {
   "cell_type": "code",
   "execution_count": 119,
   "id": "010d8151",
   "metadata": {},
   "outputs": [],
   "source": [
    "tools = [current_date_time]\n",
    "llm = llm.bind_tools(tools, parallel_tool_calls=False)"
   ]
  },
  {
   "cell_type": "code",
   "execution_count": 13,
   "id": "063cbec2",
   "metadata": {},
   "outputs": [],
   "source": [
    "from typing import Annotated\n",
    "from typing_extensions import TypedDict\n",
    "from langchain_core.messages import AnyMessage\n",
    "from langgraph.graph.message import add_messages\n",
    "\n",
    "class MyState(TypedDict):\n",
    "    messages: Annotated[list[AnyMessage],add_messages]\n",
    "    intencion: str\n",
    "    summary: str"
   ]
  },
  {
   "cell_type": "code",
   "execution_count": 120,
   "id": "4daca633",
   "metadata": {},
   "outputs": [],
   "source": [
    "from langchain_core.messages import SystemMessage, HumanMessage, RemoveMessage\n",
    "\n",
    "def identificar_intencion(state: MyState) -> dict:\n",
    "    system_promp = \"\"\"Tu tarea es identificar y clasificar la intención del usuario a partir de la conversación proporcionada, usando la siguiente lista de posibles intenciones:\n",
    "\n",
    "    agendar_cita: El usuario desea reservar o programar una nueva cita.\n",
    "    consultar_cita: El usuario quiere obtener información sobre una cita ya existente, como la hora o el lugar.\n",
    "    reagendar_cita: El usuario busca cambiar la fecha o la hora de una cita previamente programada.\n",
    "    otra: cuando el usuario realiza una conversacion fuera del contexto\n",
    "\n",
    "    Debes responder solamente con una intención de esta lista: [agendar_cita, consultar_cita, reagendar_cita, otra]\n",
    "    No agregues mas palabras\n",
    "    \"\"\"\n",
    "    resp = llm.invoke([SystemMessage(content=system_promp)] + state[\"messages\"])\n",
    "    intencion = resp.content.strip().lower()\n",
    "    # print(resp)\n",
    "    return {\"messages\": state.get(\"messages\",\"\") + [f\"intencion identificada: {intencion}\"], \"intencion\": intencion, \"summary\": state.get(\"summary\",\"\") + f\"Intención detectada: {intencion}\"}"
   ]
  },
  {
   "cell_type": "code",
   "execution_count": 121,
   "id": "35cf3f08",
   "metadata": {},
   "outputs": [],
   "source": [
    "def consultar_cita(state: MyState) -> dict:\n",
    "    system_prompt = \"\"\"Eres una base de datos que tienes agendado citas, cuado el usuario te pida una consulta de cita tu vas a responder con la fecha y la hora de forma simulada.    \n",
    "    \"\"\"\n",
    "\n",
    "    resp = llm.invoke([SystemMessage(content=system_prompt)] + state.get(\"messages\",\"\"))\n",
    "    cita = resp.content\n",
    "    return {\"messages\": state[\"messages\"] + [f\"{cita}\"],\n",
    "            \"intecion\": state[\"intencion\"],\n",
    "            \"summary\": state.get(\"summary\",\"\") + f\"Cita consultada para el dia de {cita}\"\n",
    "            }"
   ]
  },
  {
   "cell_type": "code",
   "execution_count": 122,
   "id": "63a49343",
   "metadata": {},
   "outputs": [],
   "source": [
    "def agendar_cita(state: MyState) -> dict:\n",
    "    system_prompt = \"\"\"Eres un asistsente útil que agendas citas, cuando el uasuario te pase la fecha y la hora vas a responder como que ya estubiera agendad la cita.     \n",
    "    \"\"\"\n",
    "\n",
    "    resp = llm.invoke([SystemMessage(content=system_prompt)] + state.get(\"messages\",\"\"))\n",
    "    agenda = resp.content\n",
    "    return {\"messages\": state[\"messages\"] + [f\"{agenda}\"],\n",
    "            \"intecion\": state[\"intencion\"],\n",
    "            \"summary\": state.get(\"summary\",\"\") + f\"Cita consultada para el dia de {agenda}\"\n",
    "    }"
   ]
  },
  {
   "cell_type": "code",
   "execution_count": 123,
   "id": "52217f32",
   "metadata": {},
   "outputs": [],
   "source": [
    "def otra(state: MyState) -> dict:\n",
    "    system_prompt = \"\"\"Eres un asistsente útil, sigue la conversacion del usuario de forma natural   \n",
    "    \"\"\"\n",
    "\n",
    "    resp = llm.invoke([SystemMessage(content=system_prompt)] + state.get(\"messages\",\"\"))\n",
    "    agenda = resp.content\n",
    "    return {\"messages\": state[\"messages\"] + [f\"{agenda}\"],\n",
    "            \"intecion\": state[\"intencion\"],\n",
    "            \"summary\": state.get(\"summary\",\"\") + f\"Cita consultada para el dia de {agenda}\"\n",
    "    }"
   ]
  },
  {
   "cell_type": "code",
   "execution_count": 124,
   "id": "036805e6",
   "metadata": {},
   "outputs": [],
   "source": [
    "#funcion determinar ruta\n",
    "def determinar_ruta(state: MyState) -> str:\n",
    "    intencion = state['intencion']\n",
    "    if intencion == \"consultar_cita\":\n",
    "        return \"consultar_cita\"\n",
    "    elif intencion == \"agendar_cita\":\n",
    "        return \"agendar_cita\"\n",
    "    else: \n",
    "        intencion == \"otra\"\n",
    "        return \"otra\"\n"
   ]
  },
  {
   "cell_type": "code",
   "execution_count": 125,
   "id": "65185bc4",
   "metadata": {},
   "outputs": [],
   "source": [
    "import sqlite3\n",
    "\n",
    "db_path=\"state_db/exmple.db\"\n",
    "conn=sqlite3.connect(db_path,check_same_thread = False)"
   ]
  },
  {
   "cell_type": "code",
   "execution_count": 126,
   "id": "ce9a99c4",
   "metadata": {},
   "outputs": [],
   "source": [
    "#checkpointer\n",
    "from langgraph.checkpoint.sqlite import SqliteSaver\n",
    "\n",
    "memory = SqliteSaver(conn)"
   ]
  },
  {
   "cell_type": "code",
   "execution_count": 128,
   "id": "bcd4c319",
   "metadata": {},
   "outputs": [],
   "source": [
    "from langgraph.graph import StateGraph, START, END\n",
    "from langgraph.prebuilt import ToolNode\n",
    "\n",
    "#Define Grafo\n",
    "builder = StateGraph(MyState)\n",
    "\n",
    "#Define nodos\n",
    "builder.add_node('identificar_intencion',identificar_intencion)\n",
    "builder.add_node('consultar_cita',consultar_cita)\n",
    "builder.add_node('agendar_cita',agendar_cita)\n",
    "builder.add_node('otra',otra)\n",
    "builder.add_node(\"tools\", ToolNode(tools))\n",
    "\n",
    "#Define la secuencia de los agentes para este caso \n",
    "builder.add_edge(START,'identificar_intencion')\n",
    "builder.add_conditional_edges(\"identificar_intencion\",determinar_ruta, {\n",
    "        \"consultar_cita\": \"consultar_cita\",\n",
    "        \"agendar_cita\": \"agendar_cita\",\n",
    "        \"otra\": 'otra'\n",
    "    })\n",
    "builder.add_edge('consultar_cita',END)\n",
    "builder.add_edge('agendar_cita',END)\n",
    "builder.add_edge('otra',END)\n",
    "\n",
    "#Tambien para definir la secuencia se debe utilizar:\n",
    "# graph.add_conditional_edges()\n",
    "\n",
    "#compilar\n",
    "graph = builder.compile(checkpointer=memory)"
   ]
  },
  {
   "cell_type": "code",
   "execution_count": 129,
   "id": "5a2bfb05",
   "metadata": {},
   "outputs": [
    {
     "data": {
      "image/png": "[encoded data removed]",
      "text/plain": [
       "<IPython.core.display.Image object>"
      ]
     },
     "metadata": {},
     "output_type": "display_data"
    }
   ],
   "source": [
    "from IPython.display import Image, display\n",
    "\n",
    "display(Image(graph.get_graph(xray=True).draw_mermaid_png()))"
   ]
  },
  {
   "cell_type": "code",
   "execution_count": 100,
   "id": "b4caa53f",
   "metadata": {},
   "outputs": [],
   "source": [
    "config = {\"configurable\": {\"thread_id\":\"2\"}}"
   ]
  },
  {
   "cell_type": "code",
   "execution_count": 106,
   "id": "a49d1b59",
   "metadata": {},
   "outputs": [
    {
     "name": "stdout",
     "output_type": "stream",
     "text": [
      "================================\u001b[1m Human Message \u001b[0m=================================\n",
      "\n",
      "Hola cuando tengo la cita con el doctor\n",
      "================================\u001b[1m Human Message \u001b[0m=================================\n",
      "\n",
      "intencion identificada: consultar_cita\n",
      "================================\u001b[1m Human Message \u001b[0m=================================\n",
      "\n",
      "Tienes una cita con el doctor el 15 de noviembre de 2023 a las 10:30 AM.\n",
      "================================\u001b[1m Human Message \u001b[0m=================================\n",
      "\n",
      "puedo agendar una cita\n",
      "================================\u001b[1m Human Message \u001b[0m=================================\n",
      "\n",
      "intencion identificada: agendar_cita\n",
      "================================\u001b[1m Human Message \u001b[0m=================================\n",
      "\n",
      "Claro, ¿qué fecha y hora te gustaría agendar para tu cita?\n",
      "================================\u001b[1m Human Message \u001b[0m=================================\n",
      "\n",
      "recuerdame para cuando tenia gendado la cita con el doctor\n",
      "================================\u001b[1m Human Message \u001b[0m=================================\n",
      "\n",
      "intencion identificada: intencion identificada: consultar_cita\n",
      "================================\u001b[1m Human Message \u001b[0m=================================\n",
      "\n",
      "Tienes una cita con el doctor el 15 de noviembre de 2023 a las 10:30 AM.\n",
      "================================\u001b[1m Human Message \u001b[0m=================================\n",
      "\n",
      "que nomas puedes hacer\n",
      "================================\u001b[1m Human Message \u001b[0m=================================\n",
      "\n",
      "intencion identificada: otra\n",
      "================================\u001b[1m Human Message \u001b[0m=================================\n",
      "\n",
      "Puedo ayudarte con varias cosas, como agendar citas, recordarte eventos, responder preguntas, darte información sobre diferentes temas y más. ¿Hay algo específico en lo que necesites ayuda?\n"
     ]
    }
   ],
   "source": [
    "content = \"que nomas puedes hacer\"\n",
    "messages = [HumanMessage(content=content)]\n",
    "messages = graph.invoke({\"messages\": messages}, config)\n",
    "\n",
    "for m in messages['messages']:\n",
    "    m.pretty_print()"
   ]
  },
  {
   "cell_type": "code",
   "execution_count": 104,
   "id": "829e2e6e",
   "metadata": {},
   "outputs": [
    {
     "data": {
      "text/plain": [
       "StateSnapshot(values={'messages': [HumanMessage(content='Hola cuando tengo la cita con el doctor', additional_kwargs={}, response_metadata={}, id='0a44c2ef-a871-40fb-ab31-61cc6bb2eb0d'), HumanMessage(content='intencion identificada: consultar_cita', additional_kwargs={}, response_metadata={}, id='fd28620e-7e07-4c5c-91cd-c14887586c54'), HumanMessage(content='Tienes una cita con el doctor el 15 de noviembre de 2023 a las 10:30 AM.', additional_kwargs={}, response_metadata={}, id='c23cd46e-3e24-472f-b124-8f353bad0d33'), HumanMessage(content='puedo agendar una cita', additional_kwargs={}, response_metadata={}, id='ce6b6080-0985-47f5-b546-82a79b4ceedf'), HumanMessage(content='intencion identificada: agendar_cita', additional_kwargs={}, response_metadata={}, id='16855846-cb36-46a0-9f5f-73ae3dbd8e4c'), HumanMessage(content='Claro, ¿qué fecha y hora te gustaría agendar para tu cita?', additional_kwargs={}, response_metadata={}, id='b4bc13e4-2996-4c63-85df-6ad638c47c25')], 'intencion': 'agendar_cita', 'summary': 'Intención detectada: consultar_citaCita consultada para el dia de Tienes una cita con el doctor el 15 de noviembre de 2023 a las 10:30 AM.Intención detectada: agendar_citaCita consultada para el dia de Claro, ¿qué fecha y hora te gustaría agendar para tu cita?'}, next=(), config={'configurable': {'thread_id': '2', 'checkpoint_ns': '', 'checkpoint_id': '1f0ac6b4-116b-63ed-8006-0ecadfdcc268'}}, metadata={'source': 'loop', 'step': 6, 'parents': {}}, created_at='2025-10-18T21:41:50.197041+00:00', parent_config={'configurable': {'thread_id': '2', 'checkpoint_ns': '', 'checkpoint_id': '1f0ac6b4-0708-6102-8005-62b06bdcd085'}}, tasks=(), interrupts=())"
      ]
     },
     "execution_count": 104,
     "metadata": {},
     "output_type": "execute_result"
    }
   ],
   "source": [
    "config = {\"configurable\": {\"thread_id\": \"2\"}}\n",
    "graph_state = graph.get_state(config)\n",
    "graph_state"
   ]
  },
  {
   "cell_type": "code",
   "execution_count": 33,
   "id": "d29878d2",
   "metadata": {},
   "outputs": [
    {
     "name": "stdout",
     "output_type": "stream",
     "text": [
      "\n",
      "None\n"
     ]
    }
   ],
   "source": [
    "if __name__ == \"__main__\":\n",
    "\n",
    "    state = {\n",
    "        \"messages\": [HumanMessage(content=\"consultar_cita\")],\n",
    "        \"summary\": \"\"\n",
    "    }\n",
    "    \n",
    "    result = consultar_cita(state)\n",
    "    print(result)\n",
    "\n"
   ]
  },
  {
   "cell_type": "code",
   "execution_count": null,
   "id": "3becc29a",
   "metadata": {},
   "outputs": [],
   "source": [
    "from langgraph.graph import StateGraph, START, END\n",
    "\n",
    "workflow = StateGraph()"
   ]
  }
 ],
 "metadata": {
  "kernelspec": {
   "display_name": "agents",
   "language": "python",
   "name": "python3"
  },
  "language_info": {
   "codemirror_mode": {
    "name": "ipython",
    "version": 3
   },
   "file_extension": ".py",
   "mimetype": "text/x-python",
   "name": "python",
   "nbconvert_exporter": "python",
   "pygments_lexer": "ipython3",
   "version": "3.11.13"
  }
 },
 "nbformat": 4,
 "nbformat_minor": 5
}
