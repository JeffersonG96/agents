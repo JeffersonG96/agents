{
 "cells": [
  {
   "cell_type": "code",
   "execution_count": 1,
   "id": "caa6e4db",
   "metadata": {},
   "outputs": [
    {
     "name": "stdout",
     "output_type": "stream",
     "text": [
      "Cargado correctamente API\n"
     ]
    }
   ],
   "source": [
    "from dotenv import load_dotenv\n",
    "import os\n",
    "\n",
    "load_dotenv()\n",
    "if os.getenv(\"OPENAI_API_KEY\"):\n",
    "    print(\"Cargado correctamente API\")"
   ]
  },
  {
   "cell_type": "code",
   "execution_count": 2,
   "id": "fa659c75",
   "metadata": {},
   "outputs": [],
   "source": [
    "from langchain_openai import ChatOpenAI\n",
    "\n",
    "MODEL = \"gpt-4o-mini\"\n",
    "llm = ChatOpenAI(model=MODEL,temperature=0.4)"
   ]
  },
  {
   "cell_type": "code",
   "execution_count": 13,
   "id": "063cbec2",
   "metadata": {},
   "outputs": [],
   "source": [
    "from typing import Annotated\n",
    "from typing_extensions import TypedDict\n",
    "from langchain_core.messages import AnyMessage\n",
    "from langgraph.graph.message import add_messages\n",
    "\n",
    "class MyState(TypedDict):\n",
    "    messages: Annotated[list[AnyMessage],add_messages]\n",
    "    intencion: str\n",
    "    summary: str"
   ]
  },
  {
   "cell_type": "code",
   "execution_count": 71,
   "id": "4daca633",
   "metadata": {},
   "outputs": [],
   "source": [
    "from langchain_core.messages import SystemMessage, HumanMessage, RemoveMessage\n",
    "\n",
    "def identificar_intencion(state: MyState) -> dict:\n",
    "    system_promp = \"\"\"Tu tarea es identificar y clasificar la intención del usuario a partir de la conversación proporcionada, usando la siguiente lista de posibles intenciones:\n",
    "\n",
    "    agendar_cita: El usuario desea reservar o programar una nueva cita.\n",
    "    consultar_cita: El usuario quiere obtener información sobre una cita ya existente, como la hora o el lugar.\n",
    "    reagendar_cita: El usuario busca cambiar la fecha o la hora de una cita previamente programada.\n",
    "    otra: cuando el usuario realiza una conversacion fuera del contexto\n",
    "\n",
    "    Debes responder solamente con una intención de esta lista: [agendar_cita, consultar_cita, reagendar_cita, otra]\n",
    "    No agregues mas palabras\n",
    "    \"\"\"\n",
    "    resp = llm.invoke([SystemMessage(content=system_promp)] + state[\"messages\"])\n",
    "    intencion = resp.content.strip().lower()\n",
    "    # print(resp)\n",
    "    return {\"messages\": state.get(\"messages\",\"\") + [f\"intencion identificada: {intencion}\"], \"intencion\": intencion, \"summary\": state.get(\"summary\",\"\") + f\"Intención detectada: {intencion}\"}"
   ]
  },
  {
   "cell_type": "code",
   "execution_count": 82,
   "id": "35cf3f08",
   "metadata": {},
   "outputs": [],
   "source": [
    "def consultar_cita(state: MyState) -> dict:\n",
    "    system_prompt = \"\"\"Eres una base de datos que tienes agendado citas, cuado el usuario te pida una consulta de cita tu vas a responder con la fecha y la hora de forma simulada.    \n",
    "    \"\"\"\n",
    "\n",
    "    resp = llm.invoke([SystemMessage(content=system_prompt)] + state.get(\"messages\",\"\"))\n",
    "    cita = resp.content\n",
    "    return {\"messages\": state[\"messages\"] + [f\"{cita}\"],\n",
    "            \"intecion\": state[\"intencion\"],\n",
    "            \"summary\": state.get(\"summary\",\"\") + f\"Cita consultada para el dia de {cita}\"\n",
    "            }"
   ]
  },
  {
   "cell_type": "code",
   "execution_count": 81,
   "id": "63a49343",
   "metadata": {},
   "outputs": [],
   "source": [
    "def agendar_cita(state: MyState) -> dict:\n",
    "    system_prompt = \"\"\"Eres un asistsente útil que agendas citas, cuando el uasuario te pase la fecha y la hora vas a responder como que ya estubiera agendad la cita.     \n",
    "    \"\"\"\n",
    "\n",
    "    resp = llm.invoke([SystemMessage(content=system_prompt)] + state.get(\"messages\",\"\"))\n",
    "    agenda = resp.content\n",
    "    return {\"messages\": state[\"messages\"] + [f\"{agenda}\"],\n",
    "            \"intecion\": state[\"intencion\"],\n",
    "            \"summary\": state.get(\"summary\",\"\") + f\"Cita consultada para el dia de {agenda}\"\n",
    "    }"
   ]
  },
  {
   "cell_type": "code",
   "execution_count": 77,
   "id": "52217f32",
   "metadata": {},
   "outputs": [],
   "source": [
    "def otra(state: MyState) -> dict:\n",
    "    system_prompt = \"\"\"Eres un asistsente útil, sigue la conversacion del usuario de forma natural   \n",
    "    \"\"\"\n",
    "\n",
    "    resp = llm.invoke([SystemMessage(content=system_prompt)] + state.get(\"messages\",\"\"))\n",
    "    agenda = resp.content\n",
    "    return {\"messages\": state[\"messages\"] + [f\"{agenda}\"],\n",
    "            \"intecion\": state[\"intencion\"],\n",
    "            \"summary\": state.get(\"summary\",\"\") + f\"Cita consultada para el dia de {agenda}\"\n",
    "    }"
   ]
  },
  {
   "cell_type": "code",
   "execution_count": 74,
   "id": "036805e6",
   "metadata": {},
   "outputs": [],
   "source": [
    "#funcion determinar ruta\n",
    "def determinar_ruta(state: MyState) -> str:\n",
    "    intencion = state['intencion']\n",
    "    if intencion == \"consultar_cita\":\n",
    "        return \"consultar_cita\"\n",
    "    elif intencion == \"agendar_cita\":\n",
    "        return \"agendar_cita\"\n",
    "    else: \n",
    "        intencion == \"otra\"\n",
    "        return \"otra\"\n"
   ]
  },
  {
   "cell_type": "code",
   "execution_count": 87,
   "id": "65185bc4",
   "metadata": {},
   "outputs": [],
   "source": [
    "import sqlite3\n",
    "\n",
    "db_path=\"state_db/exmple.db\"\n",
    "conn=sqlite3.connect(db_path,check_same_thread = False)"
   ]
  },
  {
   "cell_type": "code",
   "execution_count": 88,
   "id": "ce9a99c4",
   "metadata": {},
   "outputs": [],
   "source": [
    "#checkpointer\n",
    "from langgraph.checkpoint.sqlite import SqliteSaver\n",
    "\n",
    "memory = SqliteSaver(conn)"
   ]
  },
  {
   "cell_type": "code",
   "execution_count": 89,
   "id": "bcd4c319",
   "metadata": {},
   "outputs": [],
   "source": [
    "from langgraph.graph import StateGraph, START, END\n",
    "\n",
    "#Define Grafo\n",
    "builder = StateGraph(MyState)\n",
    "\n",
    "#Define nodos\n",
    "builder.add_node('identificar_intencion',identificar_intencion)\n",
    "builder.add_node('consultar_cita',consultar_cita)\n",
    "builder.add_node('agendar_cita',agendar_cita)\n",
    "builder.add_node('otra',otra)\n",
    "\n",
    "#Define la secuencia de los agentes para este caso \n",
    "builder.add_edge(START,'identificar_intencion')\n",
    "builder.add_conditional_edges(\"identificar_intencion\",determinar_ruta, {\n",
    "        \"consultar_cita\": \"consultar_cita\",\n",
    "        \"agendar_cita\": \"agendar_cita\",\n",
    "        \"otra\": 'otra'\n",
    "    })\n",
    "builder.add_edge('consultar_cita',END)\n",
    "builder.add_edge('agendar_cita',END)\n",
    "builder.add_edge('otra',END)\n",
    "\n",
    "#Tambien para definir la secuencia se debe utilizar:\n",
    "# graph.add_conditional_edges()\n",
    "\n",
    "#compilar\n",
    "graph = builder.compile(checkpointer=memory)"
   ]
  },
  {
   "cell_type": "code",
   "execution_count": 84,
   "id": "5a2bfb05",
   "metadata": {},
   "outputs": [
    {
     "data": {
      "image/png": "[encoded data removed]",
      "text/plain": [
       "<IPython.core.display.Image object>"
      ]
     },
     "metadata": {},
     "output_type": "display_data"
    }
   ],
   "source": [
    "from IPython.display import Image, display\n",
    "\n",
    "display(Image(graph.get_graph(xray=True).draw_mermaid_png()))"
   ]
  },
  {
   "cell_type": "code",
   "execution_count": null,
   "id": "b4caa53f",
   "metadata": {},
   "outputs": [],
   "source": [
    "config = {\"configurable\": {\"thread_id\":\"2\"}}"
   ]
  },
  {
   "cell_type": "code",
   "execution_count": 93,
   "id": "a49d1b59",
   "metadata": {},
   "outputs": [
    {
     "name": "stdout",
     "output_type": "stream",
     "text": [
      "================================\u001b[1m Human Message \u001b[0m=================================\n",
      "\n",
      "hola soy Jefferson\n",
      "==================================\u001b[1m Ai Message \u001b[0m==================================\n",
      "\n",
      "¡Hola, Jefferson! ¿Cómo estás? ¿Hay algo en particular de lo que te gustaría hablar?\n",
      "================================\u001b[1m Human Message \u001b[0m=================================\n",
      "\n",
      "Cual era mi nombre ?\n",
      "==================================\u001b[1m Ai Message \u001b[0m==================================\n",
      "\n",
      "Tu nombre es Jefferson. ¿Te gustaría hablar sobre algo en particular?\n",
      "================================\u001b[1m Human Message \u001b[0m=================================\n",
      "\n",
      "me gusta viajar\n",
      "==================================\u001b[1m Ai Message \u001b[0m==================================\n",
      "\n",
      "¡Genial! Viajar es una experiencia maravillosa. ¿Tienes algún destino favorito o algún lugar al que te gustaría ir en el futuro?\n",
      "================================\u001b[1m Human Message \u001b[0m=================================\n",
      "\n",
      "a que hora me dijiste la cita que tenia ?\n",
      "================================\u001b[1m Human Message \u001b[0m=================================\n",
      "\n",
      "intencion identificada: consultar_cita\n",
      "================================\u001b[1m Human Message \u001b[0m=================================\n",
      "\n",
      "Tu cita está programada para el 15 de noviembre de 2023 a las 10:30 AM. ¿Necesitas hacer algún cambio o consultar algo más?\n",
      "================================\u001b[1m Human Message \u001b[0m=================================\n",
      "\n",
      "quisiera saber si puedo agendar una cita\n",
      "================================\u001b[1m Human Message \u001b[0m=================================\n",
      "\n",
      "intencion identificada: agendar_cita\n",
      "================================\u001b[1m Human Message \u001b[0m=================================\n",
      "\n",
      "Claro, puedo ayudarte a agendar una cita. ¿Qué fecha y hora tienes en mente?\n",
      "================================\u001b[1m Human Message \u001b[0m=================================\n",
      "\n",
      "Para mañana a las 2 pm\n",
      "================================\u001b[1m Human Message \u001b[0m=================================\n",
      "\n",
      "intencion identificada: intencion identificada: agendar_cita\n",
      "================================\u001b[1m Human Message \u001b[0m=================================\n",
      "\n",
      "Perfecto, agendaré la cita para mañana a las 2 PM. ¿Para qué tipo de cita es?\n"
     ]
    }
   ],
   "source": [
    "content = \"Para mañana a las 2 pm\"\n",
    "messages = [HumanMessage(content=content)]\n",
    "messages = graph.invoke({\"messages\": messages}, config)\n",
    "\n",
    "for m in messages['messages']:\n",
    "    m.pretty_print()"
   ]
  },
  {
   "cell_type": "code",
   "execution_count": 33,
   "id": "d29878d2",
   "metadata": {},
   "outputs": [
    {
     "name": "stdout",
     "output_type": "stream",
     "text": [
      "\n",
      "None\n"
     ]
    }
   ],
   "source": [
    "if __name__ == \"__main__\":\n",
    "\n",
    "    state = {\n",
    "        \"messages\": [HumanMessage(content=\"consultar_cita\")],\n",
    "        \"summary\": \"\"\n",
    "    }\n",
    "    \n",
    "    result = consultar_cita(state)\n",
    "    print(result)\n",
    "\n"
   ]
  },
  {
   "cell_type": "code",
   "execution_count": null,
   "id": "3becc29a",
   "metadata": {},
   "outputs": [],
   "source": [
    "from langgraph.graph import StateGraph, START, END\n",
    "\n",
    "workflow = StateGraph()"
   ]
  }
 ],
 "metadata": {
  "kernelspec": {
   "display_name": "agents",
   "language": "python",
   "name": "python3"
  },
  "language_info": {
   "codemirror_mode": {
    "name": "ipython",
    "version": 3
   },
   "file_extension": ".py",
   "mimetype": "text/x-python",
   "name": "python",
   "nbconvert_exporter": "python",
   "pygments_lexer": "ipython3",
   "version": "3.11.13"
  }
 },
 "nbformat": 4,
 "nbformat_minor": 5
}
