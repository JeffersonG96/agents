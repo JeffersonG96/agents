{
 "cells": [
  {
   "cell_type": "markdown",
   "id": "74b9cf30",
   "metadata": {},
   "source": [
    "### Resumen de mensajes y externa DB"
   ]
  },
  {
   "cell_type": "code",
   "execution_count": 1,
   "id": "39506a9c",
   "metadata": {},
   "outputs": [
    {
     "name": "stdout",
     "output_type": "stream",
     "text": [
      "Cargado correctamente\n"
     ]
    }
   ],
   "source": [
    "import os\n",
    "from dotenv import load_dotenv\n",
    "\n",
    "load_dotenv()\n",
    "\n",
    "if os.getenv(\"OPENAI_API_KEY\"):\n",
    "    print(\"Cargado correctamente\")"
   ]
  },
  {
   "cell_type": "code",
   "execution_count": 4,
   "id": "353ee198",
   "metadata": {},
   "outputs": [],
   "source": [
    "import sqlite3\n",
    "\n",
    "db_path=\"state_db/exmple.db\"\n",
    "conn=sqlite3.connect(db_path,check_same_thread = False)"
   ]
  },
  {
   "cell_type": "code",
   "execution_count": 5,
   "id": "df94b20e",
   "metadata": {},
   "outputs": [],
   "source": [
    "#checkpointer\n",
    "from langgraph.checkpoint.sqlite import SqliteSaver\n",
    "\n",
    "memory = SqliteSaver(conn)"
   ]
  },
  {
   "cell_type": "code",
   "execution_count": 7,
   "id": "2cbcf9c4",
   "metadata": {},
   "outputs": [],
   "source": [
    "#llm\n",
    "from langchain_openai import ChatOpenAI\n",
    "\n",
    "MODEL = \"gpt-4o-mini\"\n",
    "llm = ChatOpenAI(model=MODEL,temperature=0.6)"
   ]
  },
  {
   "cell_type": "code",
   "execution_count": 9,
   "id": "9268af2a",
   "metadata": {},
   "outputs": [],
   "source": [
    "#schema\n",
    "from typing import Annotated\n",
    "from typing_extensions import TypedDict\n",
    "from langchain_core.messages import AnyMessage\n",
    "from langgraph.graph.message import add_messages\n",
    "\n",
    "class State(TypedDict):\n",
    "    messages: Annotated[list[AnyMessage],add_messages]\n",
    "    summary: str"
   ]
  },
  {
   "cell_type": "code",
   "execution_count": 17,
   "id": "85346512",
   "metadata": {},
   "outputs": [],
   "source": [
    "from langchain_core.messages import SystemMessage, HumanMessage, RemoveMessage\n",
    "\n",
    "#define la logica para llamar al modelo\n",
    "#systemMessages\n",
    "def llamar_modelo(state: State):\n",
    "    summary = state.get(\"summary\",\"\")\n",
    "\n",
    "    if summary:\n",
    "        system_messages = f\"Resume la conversación: {summary}\"\n",
    "        messages = [SystemMessage(content = system_messages)] + state[\"messages\"]\n",
    "    \n",
    "    else:\n",
    "        messages = state[\"messages\"]\n",
    "    \n",
    "    response = llm.invoke(messages)\n",
    "    return {\"messages\": response}\n"
   ]
  },
  {
   "cell_type": "code",
   "execution_count": 24,
   "id": "652dc308",
   "metadata": {},
   "outputs": [],
   "source": [
    "#HummanMessages\n",
    "def resumir_conversacion(state: State):\n",
    "    summary = state.get(\"summary\",\"\")\n",
    "\n",
    "    if summary:\n",
    "        summary_message = (f\"Este es el resumen hasta ahora: {summary}\\n\"\n",
    "                        \"Extiende el resumen teniendo encuenta los nuevos mensajes anteriores:\")\n",
    "    else: \n",
    "        summary_message = \"Crea un resumen de la conversación anterior\"\n",
    "\n",
    "    messages = state[\"messages\"] + [HumanMessage(content=summary_message)]\n",
    "    response = llm.invoke(messages)\n",
    "\n",
    "    #eliminar todos los mensajes excepto los dos últimos \n",
    "    delete_menssage = [RemoveMessage(id = m.id) for m in state[\"messages\"][:-2]]\n",
    "    return {\"summary\": response.content, \"messages\":delete_menssage}"
   ]
  },
  {
   "cell_type": "code",
   "execution_count": null,
   "id": "5184b28a",
   "metadata": {},
   "outputs": [],
   "source": [
    "#Determina si terminar o resumir la conversación \n",
    "from langgraph.graph import END\n",
    "\n",
    "def determinar(state: State):\n",
    "    \"\"\"Return el siguiente nodo a ejecutar\"\"\"\n",
    "    messages = state[\"messages\"]\n",
    "    if len(messages) > 6:\n",
    "        return \"resumir_conversacion\"\n",
    "    return END"
   ]
  },
  {
   "cell_type": "code",
   "execution_count": 31,
   "id": "1b180876",
   "metadata": {},
   "outputs": [],
   "source": [
    "from langgraph.graph import StateGraph, START\n",
    "#define grafo\n",
    "workflow = StateGraph(State)\n",
    "#define nodos\n",
    "workflow.add_node(\"conversacion\",llamar_modelo)\n",
    "workflow.add_node(resumir_conversacion)\n",
    "#secuencia\n",
    "workflow.add_edge(START,\"conversacion\")\n",
    "workflow.add_conditional_edges(\"conversacion\",determinar)\n",
    "workflow.add_edge(\"resumir_conversacion\",END)\n",
    "#compilar\n",
    "graph = workflow.compile(checkpointer=memory)"
   ]
  },
  {
   "cell_type": "code",
   "execution_count": 32,
   "id": "f31253bd",
   "metadata": {},
   "outputs": [
    {
     "data": {
      "image/png": "[encoded data removed]",
      "text/plain": [
       "<IPython.core.display.Image object>"
      ]
     },
     "metadata": {},
     "output_type": "display_data"
    }
   ],
   "source": [
    "from IPython.display import Image, display\n",
    "\n",
    "display(Image(graph.get_graph().draw_mermaid_png()))"
   ]
  },
  {
   "cell_type": "code",
   "execution_count": 33,
   "id": "39168852",
   "metadata": {},
   "outputs": [],
   "source": [
    "#crear un thread\n",
    "config = {\"configurable\": {\"thread_id\":\"1\"}}"
   ]
  },
  {
   "cell_type": "code",
   "execution_count": 40,
   "id": "772fbf03",
   "metadata": {},
   "outputs": [
    {
     "name": "stdout",
     "output_type": "stream",
     "text": [
      "================================\u001b[1m Human Message \u001b[0m=================================\n",
      "\n",
      "hola soy Jefferson\n",
      "==================================\u001b[1m Ai Message \u001b[0m==================================\n",
      "\n",
      "¡Hola, Jefferson! ¿Cómo estás? ¿Hay algo en particular de lo que te gustaría hablar?\n",
      "================================\u001b[1m Human Message \u001b[0m=================================\n",
      "\n",
      "hola soy Jefferson\n",
      "==================================\u001b[1m Ai Message \u001b[0m==================================\n",
      "\n",
      "¡Hola, Jefferson! ¿Cómo estás? ¿Hay algo en particular de lo que te gustaría hablar?\n",
      "================================\u001b[1m Human Message \u001b[0m=================================\n",
      "\n",
      "Cual era mi nombre ?\n",
      "==================================\u001b[1m Ai Message \u001b[0m==================================\n",
      "\n",
      "Tu nombre es Jefferson. ¿Te gustaría hablar sobre algo en particular?\n",
      "================================\u001b[1m Human Message \u001b[0m=================================\n",
      "\n",
      "hola soy Jefferson\n",
      "==================================\u001b[1m Ai Message \u001b[0m==================================\n",
      "\n",
      "¡Hola, Jefferson! ¿Cómo estás? ¿Hay algo en particular de lo que te gustaría hablar?\n",
      "================================\u001b[1m Human Message \u001b[0m=================================\n",
      "\n",
      "Cual era mi nombre ?\n",
      "==================================\u001b[1m Ai Message \u001b[0m==================================\n",
      "\n",
      "Tu nombre es Jefferson. ¿Te gustaría hablar sobre algo en particular?\n",
      "================================\u001b[1m Human Message \u001b[0m=================================\n",
      "\n",
      "me gusta viajar\n",
      "==================================\u001b[1m Ai Message \u001b[0m==================================\n",
      "\n",
      "¡Genial! Viajar es una experiencia maravillosa. ¿Tienes algún destino favorito o algún lugar al que te gustaría ir en el futuro?\n"
     ]
    }
   ],
   "source": [
    "#inicia conversacion\n",
    "input_msg = HumanMessage(content=\"hola soy Jefferson\")\n",
    "output_msg = graph.invoke({\"messages\": [input_msg]}, config)\n",
    "for m in output_msg[\"messages\"]:\n",
    "    m.pretty_print()\n",
    "\n",
    "input_msg = HumanMessage(content=\"Cual era mi nombre ?\")\n",
    "output_msg = graph.invoke({\"messages\": [input_msg]}, config)\n",
    "for m in output_msg[\"messages\"]:\n",
    "    m.pretty_print()\n",
    "\n",
    "input_msg = HumanMessage(content=\"me gusta viajar\")\n",
    "output_msg = graph.invoke({\"messages\": [input_msg]}, config)\n",
    "for m in output_msg[\"messages\"]:\n",
    "    m.pretty_print()"
   ]
  },
  {
   "cell_type": "code",
   "execution_count": 37,
   "id": "31430538",
   "metadata": {},
   "outputs": [
    {
     "data": {
      "text/plain": [
       "StateSnapshot(values={'messages': [HumanMessage(content='Cual era mi nombre ?', additional_kwargs={}, response_metadata={}, id='7ece0efd-edb6-40d7-a02e-45c466ef16ec'), AIMessage(content='Tu nombre es Alex. ¿Hay algo más en lo que te pueda ayudar?', additional_kwargs={'refusal': None}, response_metadata={'token_usage': {'completion_tokens': 16, 'prompt_tokens': 107, 'total_tokens': 123, 'completion_tokens_details': {'accepted_prediction_tokens': 0, 'audio_tokens': 0, 'reasoning_tokens': 0, 'rejected_prediction_tokens': 0}, 'prompt_tokens_details': {'audio_tokens': 0, 'cached_tokens': 0}}, 'model_name': 'gpt-4o-mini-2024-07-18', 'system_fingerprint': 'fp_560af6e559', 'id': 'chatcmpl-COF7vs1eFxr6T7K1QjQYuVsOBWKcz', 'service_tier': 'default', 'finish_reason': 'stop', 'logprobs': None}, id='run--aeaee238-17f5-440e-a727-ea48c05c0d5a-0', usage_metadata={'input_tokens': 107, 'output_tokens': 16, 'total_tokens': 123, 'input_token_details': {'audio': 0, 'cache_read': 0}, 'output_token_details': {'audio': 0, 'reasoning': 0}}), HumanMessage(content='me gusta viajar', additional_kwargs={}, response_metadata={}, id='d4ab1095-bbf3-4a11-b973-f37e27849ee8'), AIMessage(content='¡Eso suena genial! Viajar es una excelente manera de explorar nuevos lugares y culturas. ¿Tienes algún destino favorito o algún lugar al que te gustaría ir próximamente?', additional_kwargs={'refusal': None}, response_metadata={'token_usage': {'completion_tokens': 36, 'prompt_tokens': 113, 'total_tokens': 149, 'completion_tokens_details': {'accepted_prediction_tokens': 0, 'audio_tokens': 0, 'reasoning_tokens': 0, 'rejected_prediction_tokens': 0}, 'prompt_tokens_details': {'audio_tokens': 0, 'cached_tokens': 0}}, 'model_name': 'gpt-4o-mini-2024-07-18', 'system_fingerprint': 'fp_560af6e559', 'id': 'chatcmpl-COF7zPyf9Ro2FTGnEvl51j6liMZNs', 'service_tier': 'default', 'finish_reason': 'stop', 'logprobs': None}, id='run--bc928040-5b69-4588-b614-e0f6cd640016-0', usage_metadata={'input_tokens': 113, 'output_tokens': 36, 'total_tokens': 149, 'input_token_details': {'audio': 0, 'cache_read': 0}, 'output_token_details': {'audio': 0, 'reasoning': 0}})], 'summary': 'En la conversación anterior, comenzaste presentándote como Alex y repetiste tu nombre en un par de ocasiones. Yo respondí saludándote y preguntando en qué podía ayudarte. Luego, te confirmé que tu nombre es Alex cuando me lo preguntaste. ¿Te gustaría añadir algo más o necesitas ayuda con otro tema?'}, next=(), config={'configurable': {'thread_id': '1', 'checkpoint_ns': '', 'checkpoint_id': '1f0a3f6b-e983-62d1-8013-1cf21be49fac'}}, metadata={'source': 'loop', 'step': 19, 'parents': {}}, created_at='2025-10-08T03:27:40.341320+00:00', parent_config={'configurable': {'thread_id': '1', 'checkpoint_ns': '', 'checkpoint_id': '1f0a3f6b-d2d4-6f2c-8012-a1d18573532a'}}, tasks=(), interrupts=())"
      ]
     },
     "execution_count": 37,
     "metadata": {},
     "output_type": "execute_result"
    }
   ],
   "source": [
    "#revisamos si el estado esta guardando localmente \n",
    "config = {\"configurable\": {\"thread_id\": \"1\"}}\n",
    "graph_state = graph.get_state(config)\n",
    "graph_state"
   ]
  },
  {
   "cell_type": "code",
   "execution_count": null,
   "id": "5d73fc83",
   "metadata": {},
   "outputs": [],
   "source": []
  }
 ],
 "metadata": {
  "kernelspec": {
   "display_name": "agents",
   "language": "python",
   "name": "python3"
  },
  "language_info": {
   "codemirror_mode": {
    "name": "ipython",
    "version": 3
   },
   "file_extension": ".py",
   "mimetype": "text/x-python",
   "name": "python",
   "nbconvert_exporter": "python",
   "pygments_lexer": "ipython3",
   "version": "3.11.13"
  }
 },
 "nbformat": 4,
 "nbformat_minor": 5
}
